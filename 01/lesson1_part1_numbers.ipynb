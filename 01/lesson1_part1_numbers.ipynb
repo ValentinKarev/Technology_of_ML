{
  "cells": [
    {
      "cell_type": "markdown",
      "metadata": {
        "id": "view-in-github",
        "colab_type": "text"
      },
      "source": [
        "<a href=\"https://colab.research.google.com/github/ValentinKarev/Technology_of_ML/blob/main/01/lesson1_part1_numbers.ipynb\" target=\"_parent\"><img src=\"https://colab.research.google.com/assets/colab-badge.svg\" alt=\"Open In Colab\"/></a>"
      ]
    },
    {
      "cell_type": "markdown",
      "metadata": {
        "id": "SY7tPQoE0caN"
      },
      "source": [
        "# Урок 0. Основы языка Python"
      ]
    },
    {
      "cell_type": "markdown",
      "metadata": {
        "id": "f_IxpvYj0caR"
      },
      "source": [
        "### Часть 1. Числа"
      ]
    },
    {
      "cell_type": "markdown",
      "metadata": {
        "id": "L_fPPErF0caR"
      },
      "source": [
        "Числа в Python бывают разные:\n",
        " - Целые числа (int): 122, -4, 99999999999, 0o177, 0x9ff, 0b101010\n",
        " - Вещественные числа (float): 1.0, 3.14, .5, 4E21, 4.0e21\n",
        " - Комплексные числа (complex): 3 + 4j, 3.0 + 4.0j,  \n",
        " - Числа фиксированной точности% decimal.Decimal('0.1')\n",
        " - Рациональные числа: fractions.Fraction(3, 4)"
      ]
    },
    {
      "cell_type": "markdown",
      "metadata": {
        "id": "Aov9_48e0caS"
      },
      "source": [
        "### Операции с целыми и вещественными числами\n",
        "\n",
        "<img src=\"https://github.com/ValentinKarev/ML_for_DNK/blob/main/01/operations.png?raw=true\">"
      ]
    },
    {
      "cell_type": "code",
      "execution_count": null,
      "metadata": {
        "collapsed": true,
        "jupyter": {
          "outputs_hidden": true
        },
        "id": "Ft6DMD7l0caS"
      },
      "outputs": [],
      "source": [
        "# Python 2 and 3 compatibility\n",
        "# pip install future\n",
        "from __future__ import (absolute_import, division,\n",
        "                        print_function, unicode_literals)\n",
        "from builtins import *"
      ]
    },
    {
      "cell_type": "markdown",
      "metadata": {
        "id": "wXKmgxXk0caT"
      },
      "source": [
        "### Целые числа"
      ]
    },
    {
      "cell_type": "code",
      "execution_count": null,
      "metadata": {
        "jupyter": {
          "outputs_hidden": false
        },
        "id": "0QeXCC2t0caT",
        "outputId": "b8b604cc-f3d2-4fdd-9a3e-68b9dad1b0a3"
      },
      "outputs": [
        {
          "name": "stdout",
          "output_type": "stream",
          "text": [
            "5\n"
          ]
        }
      ],
      "source": [
        "print(3+2)"
      ]
    },
    {
      "cell_type": "code",
      "execution_count": null,
      "metadata": {
        "jupyter": {
          "outputs_hidden": false
        },
        "id": "LuYcg7Ln0caU",
        "outputId": "57dc1f56-7941-4070-b254-8166620064d7"
      },
      "outputs": [
        {
          "name": "stdout",
          "output_type": "stream",
          "text": [
            "1\n"
          ]
        }
      ],
      "source": [
        "print(3-2)"
      ]
    },
    {
      "cell_type": "code",
      "execution_count": null,
      "metadata": {
        "jupyter": {
          "outputs_hidden": false
        },
        "id": "QALGqjjN0caU",
        "outputId": "09e0ad87-7362-456b-c3f4-7c654f9e9d6d"
      },
      "outputs": [
        {
          "name": "stdout",
          "output_type": "stream",
          "text": [
            "6\n"
          ]
        }
      ],
      "source": [
        "print(3*2)"
      ]
    },
    {
      "cell_type": "code",
      "execution_count": null,
      "metadata": {
        "jupyter": {
          "outputs_hidden": false
        },
        "id": "UrN_LU8l0caV",
        "outputId": "53b81631-259f-441c-fa27-8edc3a2ae344"
      },
      "outputs": [
        {
          "name": "stdout",
          "output_type": "stream",
          "text": [
            "1\n"
          ]
        }
      ],
      "source": [
        "print(3 / 2)"
      ]
    },
    {
      "cell_type": "code",
      "execution_count": null,
      "metadata": {
        "jupyter": {
          "outputs_hidden": false
        },
        "id": "d4vHxc6k0caV",
        "outputId": "3d696df5-2263-489f-96d6-4d209c01f323"
      },
      "outputs": [
        {
          "name": "stdout",
          "output_type": "stream",
          "text": [
            "9\n"
          ]
        }
      ],
      "source": [
        "print(3 ** 2)"
      ]
    },
    {
      "cell_type": "markdown",
      "metadata": {
        "id": "A_FsBDIb0caV"
      },
      "source": [
        "Можно использовать скобки для управления порядком операций"
      ]
    },
    {
      "cell_type": "code",
      "execution_count": null,
      "metadata": {
        "jupyter": {
          "outputs_hidden": false
        },
        "id": "k7KCaDeH0caW",
        "outputId": "cddd44f5-28ce-4b06-f519-5e117e7f123f"
      },
      "outputs": [
        {
          "name": "stdout",
          "output_type": "stream",
          "text": [
            "14\n",
            "20\n"
          ]
        }
      ],
      "source": [
        "standard_order = 2 + 3*4\n",
        "print(standard_order)\n",
        "my_order = (2 + 3)*4\n",
        "print(my_order)"
      ]
    },
    {
      "cell_type": "markdown",
      "metadata": {
        "id": "MfLhUuID0caW"
      },
      "source": [
        "### Вещественные числа"
      ]
    },
    {
      "cell_type": "code",
      "execution_count": null,
      "metadata": {
        "jupyter": {
          "outputs_hidden": false
        },
        "id": "YwSwfa8C0caW",
        "outputId": "aca40ef2-5663-4114-ce18-cebee4500721"
      },
      "outputs": [
        {
          "name": "stdout",
          "output_type": "stream",
          "text": [
            "0.2\n"
          ]
        }
      ],
      "source": [
        "print(.1 + .1)"
      ]
    },
    {
      "cell_type": "markdown",
      "metadata": {
        "id": "0F73nKWx0caW"
      },
      "source": [
        "#### Целые числа в Python 2 и Python 3\n",
        "В Python 2 результат деления двух челых чисел - тоже целое, а в Python 3 - float."
      ]
    },
    {
      "cell_type": "code",
      "execution_count": null,
      "metadata": {
        "jupyter": {
          "outputs_hidden": false
        },
        "id": "-Ao8H1L10caX",
        "outputId": "e6adecbf-3e51-4cc5-979a-e241e9a2a618"
      },
      "outputs": [
        {
          "name": "stdout",
          "output_type": "stream",
          "text": [
            "1.5\n"
          ]
        }
      ],
      "source": [
        "print(3 / 2)"
      ]
    },
    {
      "cell_type": "markdown",
      "metadata": {
        "id": "cckI5v7A0caX"
      },
      "source": [
        "В Python 3 результат - 1.5, в Python 2 (без подключения future) - 1"
      ]
    },
    {
      "cell_type": "markdown",
      "metadata": {
        "id": "ZyMUhRPC0caX"
      },
      "source": [
        "### Числа фиксированной точности и рациональные числа"
      ]
    },
    {
      "cell_type": "markdown",
      "metadata": {
        "id": "tfZZDy3U0caY"
      },
      "source": [
        "Для решения проблем, связанных с точностью представления простых вещественных чисел введены\n",
        "вещественные числа с фиксированной точностью и рациональные числа (числа, представленные дробью, то есть парой целых чисел – числителем и знаменателем)."
      ]
    },
    {
      "cell_type": "code",
      "execution_count": null,
      "metadata": {
        "jupyter": {
          "outputs_hidden": false
        },
        "id": "BUYPzczh0caY",
        "outputId": "d173d0c3-0af2-45a3-9fe0-28c996114ef1"
      },
      "outputs": [
        {
          "name": "stdout",
          "output_type": "stream",
          "text": [
            "0.366666666667\n"
          ]
        },
        {
          "data": {
            "text/plain": [
              "True"
            ]
          },
          "execution_count": 13,
          "metadata": {},
          "output_type": "execute_result"
        }
      ],
      "source": [
        "print(1.1/3)\n",
        "from decimal import Decimal\n",
        "from decimal import getcontext\n",
        "getcontext().prec = 3\n",
        "Decimal('4') / 3 == Decimal('1.33')"
      ]
    },
    {
      "cell_type": "code",
      "execution_count": null,
      "metadata": {
        "jupyter": {
          "outputs_hidden": false
        },
        "id": "ZkZVrXAn0caY",
        "outputId": "e825274b-3a4c-4001-f3c6-d9ab82df2024"
      },
      "outputs": [
        {
          "name": "stdout",
          "output_type": "stream",
          "text": [
            "0.37\n"
          ]
        }
      ],
      "source": [
        "from decimal import Decimal\n",
        "from decimal import getcontext\n",
        "getcontext().prec = 2\n",
        "print(Decimal('1.10') / 3)"
      ]
    },
    {
      "cell_type": "code",
      "execution_count": null,
      "metadata": {
        "jupyter": {
          "outputs_hidden": false
        },
        "id": "3B1H1k8o0caY",
        "outputId": "55f65723-0e39-44b1-d337-72d27d7af234"
      },
      "outputs": [
        {
          "name": "stdout",
          "output_type": "stream",
          "text": [
            "0\n",
            "False\n"
          ]
        }
      ],
      "source": [
        "print(7/71)\n",
        "print(7/71*71 == 7)"
      ]
    },
    {
      "cell_type": "code",
      "execution_count": null,
      "metadata": {
        "jupyter": {
          "outputs_hidden": false
        },
        "id": "etw-3Fgp0caY",
        "outputId": "825f1952-7e4d-482b-c7ba-8cdd8c547af2"
      },
      "outputs": [
        {
          "name": "stdout",
          "output_type": "stream",
          "text": [
            "True\n"
          ]
        }
      ],
      "source": [
        "from fractions import Fraction\n",
        "print(Fraction(7, 71) * 71 == 7)"
      ]
    },
    {
      "cell_type": "markdown",
      "metadata": {
        "id": "nAzIwWoY0caY"
      },
      "source": [
        "### Приоритет арифметических операций в Python\n",
        "\n",
        "<img src=\"https://github.com/ValentinKarev/ML_for_DNK/blob/main/01/operations_priority.png?raw=true\">"
      ]
    },
    {
      "cell_type": "markdown",
      "metadata": {
        "id": "p6fOM1Na0caZ"
      },
      "source": [
        "    \n",
        "#### Полезные ссылки\n",
        "\n",
        "- [сайт Python](http://python.org/)\n",
        "\n",
        "    Основной сайт Python, содержит исчерпывающую документацию.\n",
        "    \n",
        "<!-- -->\n",
        "    \n",
        "- [StackOverflow](http://stackoverflow.com/)\n",
        "\n",
        "    StackOverflow - популярный форум для вопросов и ответов о программировании. Решения для очень многих ошибок, появляющихся в процессе программирования, можно найти, используя поисковик и StackOverflow.\n",
        "\n",
        "<!-- -->\n",
        "\n",
        "- [CodeAcademy](https://www.codecademy.com/)\n",
        "\n",
        "    CodeAcademy - это простое интерактивное введение во многие языки, включая Python."
      ]
    },
    {
      "cell_type": "markdown",
      "source": [
        "# Часть 2. Практические задания"
      ],
      "metadata": {
        "id": "1hz5mm_O1ail"
      }
    },
    {
      "cell_type": "markdown",
      "source": [
        "Задание 1. Вычислите $2^{2024}$. Выведите на экран вычисленное значение."
      ],
      "metadata": {
        "id": "R3jGUpIh1joy"
      }
    },
    {
      "cell_type": "code",
      "source": [
        "# Ваш код здесь!"
      ],
      "metadata": {
        "id": "CAWPX4wG1Zxn"
      },
      "execution_count": null,
      "outputs": []
    },
    {
      "cell_type": "markdown",
      "source": [
        "Задание 2. Вычислите длину гипотенузы в прямоугольном треугольнике со сторонами 321 и 456.\n",
        "(примечание) $с = \\sqrt{a^2+b^2}$"
      ],
      "metadata": {
        "id": "WGWV-KCt2N0N"
      }
    },
    {
      "cell_type": "code",
      "source": [
        "# Ваш код здесь!"
      ],
      "metadata": {
        "id": "hWezqJWJ2zEB"
      },
      "execution_count": null,
      "outputs": []
    },
    {
      "cell_type": "markdown",
      "source": [
        "Задание 3. Используя стандартные арифметические операции представьте самое большое целое число из цифр 2, 2, 2 и приведите его значение."
      ],
      "metadata": {
        "id": "C8X0yMDL2zly"
      }
    },
    {
      "cell_type": "code",
      "source": [
        "# Ваш код здесь!"
      ],
      "metadata": {
        "id": "gvWmvCnJ4jF7"
      },
      "execution_count": null,
      "outputs": []
    },
    {
      "cell_type": "markdown",
      "source": [
        "Задание 4. Даны два натуральных числа n и m. Если одно из них делится на другое нацело, выведите 1, иначе выведите любое другое целое число."
      ],
      "metadata": {
        "id": "owBkHh-Q5isT"
      }
    },
    {
      "cell_type": "code",
      "source": [
        "# Ваш код здесь!"
      ],
      "metadata": {
        "id": "kZ2YxdcG5rb3"
      },
      "execution_count": null,
      "outputs": []
    },
    {
      "cell_type": "markdown",
      "source": [
        "Задание 5. За день машина проезжает n километров. Сколько дней нужно, чтобы проехать маршрут длиной m километров?"
      ],
      "metadata": {
        "id": "UD1p1nQy5rsI"
      }
    },
    {
      "cell_type": "code",
      "source": [
        "# Ваш код здесь!"
      ],
      "metadata": {
        "id": "LPk9W7LZ5wAP"
      },
      "execution_count": null,
      "outputs": []
    },
    {
      "cell_type": "markdown",
      "source": [
        "# Часть 3. Домашнее задание"
      ],
      "metadata": {
        "id": "SuWHI34y4ibS"
      }
    },
    {
      "cell_type": "markdown",
      "source": [
        "Задание 1. Пирожок в столовой стоит a рублей и b копеек. Определите, сколько рублей и копеек нужно заплатить за n пирожков."
      ],
      "metadata": {
        "id": "4amChTxW5BJw"
      }
    },
    {
      "cell_type": "code",
      "source": [
        "# Ваш код здесь!"
      ],
      "metadata": {
        "id": "MZrsjDCK5CYe"
      },
      "execution_count": null,
      "outputs": []
    },
    {
      "cell_type": "markdown",
      "source": [
        "Задание 2. Из двух целых чисел a и b ваша программа должна вывести наибольшее. Числа — целые от 1 до 1000."
      ],
      "metadata": {
        "id": "9Oek60Up5Bg5"
      }
    },
    {
      "cell_type": "code",
      "source": [
        "# Ваш код здесь!"
      ],
      "metadata": {
        "id": "YynsFU3l5C74"
      },
      "execution_count": null,
      "outputs": []
    },
    {
      "cell_type": "markdown",
      "source": [
        "Задание 3. Улитка ползёт по вертикальному шесту высотой h метров, поднимаясь за день на a метров, а за ночь спускаясь на b метров. На какой день улитка доползёт до вершины шеста?"
      ],
      "metadata": {
        "id": "rEzqskxh5Bqx"
      }
    },
    {
      "cell_type": "code",
      "source": [
        "# Ваш код здесь!"
      ],
      "metadata": {
        "id": "GpPMbXvN5Dgb"
      },
      "execution_count": null,
      "outputs": []
    }
  ],
  "metadata": {
    "kernelspec": {
      "display_name": "Python 3 (ipykernel)",
      "language": "python",
      "name": "python3"
    },
    "language_info": {
      "codemirror_mode": {
        "name": "ipython",
        "version": 3
      },
      "file_extension": ".py",
      "mimetype": "text/x-python",
      "name": "python",
      "nbconvert_exporter": "python",
      "pygments_lexer": "ipython3",
      "version": "3.10.8"
    },
    "name": "seminar2_part1_variables_strings_numbers.ipynb",
    "colab": {
      "provenance": [],
      "include_colab_link": true
    }
  },
  "nbformat": 4,
  "nbformat_minor": 0
}