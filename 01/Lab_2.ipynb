{
  "nbformat": 4,
  "nbformat_minor": 0,
  "metadata": {
    "kernelspec": {
      "display_name": "Python 3",
      "language": "python",
      "name": "python3"
    },
    "language_info": {
      "codemirror_mode": {
        "name": "ipython",
        "version": 3
      },
      "file_extension": ".py",
      "mimetype": "text/x-python",
      "name": "python",
      "nbconvert_exporter": "python",
      "pygments_lexer": "ipython3",
      "version": "3.7.6"
    },
    "colab": {
      "name": "Лабораторная работа 2.ipynb",
      "provenance": []
    }
  },
  "cells": [
    {
      "cell_type": "markdown",
      "source": [
        "Ваше имя и фамилия:\n",
        "\n",
        "Номер группы:\n",
        "\n",
        "\n",
        "\n",
        "----\n"
      ],
      "metadata": {
        "id": "s1wgsdo3mRzL"
      }
    },
    {
      "cell_type": "markdown",
      "metadata": {
        "id": "CjQioxs_r5Vc"
      },
      "source": [
        "### 1.Язык программирования Python"
      ]
    },
    {
      "cell_type": "markdown",
      "source": [
        ""
      ],
      "metadata": {
        "id": "lUFz3QSIfOMx"
      }
    },
    {
      "cell_type": "markdown",
      "metadata": {
        "id": "UxpB30ojr5Vl"
      },
      "source": [
        "[Python](https://www.python.org) — высокоуровневый язык программирования, который позволяет решает разные задачи. Высокая популярность языка связана с простотым началом работы на этом языке и с удобством языка для задач аналитики данных, машинного обучения, построения интеллектуальных систем.  \n",
        "\n",
        "По версии TIOBE Index [Python стал языком 2021 года](https://www.tiobe.com/tiobe-index/) и занимает лидирующую позицию в рейтинге популярности языков.\n",
        "\n",
        "Создатель языка  — сотрудник голландского центра математики и информатики Гвидо ван Россум. В 1991 году он опубликовал исходники языка, который получил название Python в честь британского шоу Monty Python's Flying Circus. \n",
        "\n",
        "\n"
      ]
    },
    {
      "cell_type": "markdown",
      "metadata": {
        "id": "dV1O5npar5Vm"
      },
      "source": [
        "![Гвидо ван Россум](https://upload.wikimedia.org/wikipedia/commons/thumb/1/17/Guido_van_Rossum_%286984267183%29_%28cropped%29.jpg/457px-Guido_van_Rossum_%286984267183%29_%28cropped%29.jpg)"
      ]
    },
    {
      "cell_type": "markdown",
      "metadata": {
        "id": "xJH9_9eXr5Vn"
      },
      "source": [
        "\n",
        "\n",
        "### 2. Переменные в Python"
      ]
    },
    {
      "cell_type": "markdown",
      "metadata": {
        "id": "hxcOMwU2r5Vo"
      },
      "source": [
        "В Python всё является объектами, которые обладают следующими характеристиками:  \n",
        "**Тип** данных определяет способности объектов и возможные значения для них.  \n",
        "**Значение**. Если значение объекта может меняться, то объект называется изменяемым, если не может — неизменяемым.  \n",
        "**Идентификатор (имя переменной)** — адрес объекта в памяти."
      ]
    },
    {
      "cell_type": "markdown",
      "metadata": {
        "id": "VQekV83Vr5Vp"
      },
      "source": [
        "Переменную нельзя использовать, пока ей не будет присвоено значение. Для именования переменных \n",
        "* можно использовать:\n",
        "   - латинские буквы (использовать кириллицу можно, но не рекомендуется), \n",
        "   - цифры,\n",
        "   - знак нижнего подчеркивания,\n",
        "* нельзя использовать:\n",
        "  - пробелы,\n",
        "  - ключевые слова Python.\n",
        "\n",
        "Для первого символа нельзя использовать цифры.\n",
        "Символы верхнего и нижнего регистра различаются (например, W и w - разные символы). Примеры некорректных имен переменных: 56abc, 90, and.\n"
      ]
    },
    {
      "cell_type": "code",
      "metadata": {
        "id": "WvkyeZSgr5Vv"
      },
      "source": [
        "# так выглядит комментарий. Запустите этот код с помощью кнопки слева, чтобы получить список ключевых слов\n",
        "import keyword\n",
        "keyword.kwlist"
      ],
      "execution_count": null,
      "outputs": []
    },
    {
      "cell_type": "markdown",
      "metadata": {
        "id": "OY9cTQsar5Vz"
      },
      "source": [
        "Особенностью языка Python в сравнении с языком C следует считать **динамическую типизацию**: переменная связывается с типом в момент присваивания значения, а не в момент объявления переменной. Таким образом, в различных участках программы одна и та же переменная может принимать значения разных типов. "
      ]
    },
    {
      "cell_type": "code",
      "metadata": {
        "id": "sXVQ1fy6r5Vz"
      },
      "source": [
        "Uni = 'ASU'\n",
        "print(type(Uni))"
      ],
      "execution_count": null,
      "outputs": []
    },
    {
      "cell_type": "code",
      "metadata": {
        "id": "-RlGuQoLr5V0"
      },
      "source": [
        "isSmart = True\n",
        "print(type(isSmart))"
      ],
      "execution_count": null,
      "outputs": []
    },
    {
      "cell_type": "code",
      "metadata": {
        "id": "shrmLvDHr5V1"
      },
      "source": [
        "year = 2022\n",
        "print(type(year))"
      ],
      "execution_count": null,
      "outputs": []
    },
    {
      "cell_type": "code",
      "source": [
        "#В Google Colab можно опустить 'print':\n",
        "type(year)"
      ],
      "metadata": {
        "id": "zi8jdSwyhah3"
      },
      "execution_count": null,
      "outputs": []
    },
    {
      "cell_type": "code",
      "metadata": {
        "id": "jczmgDfLr5V1"
      },
      "source": [
        "Uni, year, isSmart"
      ],
      "execution_count": null,
      "outputs": []
    },
    {
      "cell_type": "markdown",
      "source": [
        "### 3. Стандартные типы данных в Python\n",
        "\n",
        "* Числа:\n",
        "  - int - целые числа (например, 978, 38, 0)\n",
        "  - float – числа с плавающей точкой (например, 8.23, 500.1, 0.0004)\n",
        "  - complex - комплексные числа,\n",
        "  - bool - логический тип данных, возможны всего два значения: Истина (True); Ложь (False)\n",
        "\n",
        "* Последовательности:\n",
        "  - str — строка,\n",
        "  - list – список (упорядоченная и изменяемая коллекция, состоящая из объектов произвольных типов),\n",
        "  - tuple – кортеж (как список, только неизменяемый).\n",
        "* Словарь - dict (неупорядоченный набор пар ключ:значение).\n",
        "* Множество - set (не существенен порядок элементов, но важна их уникальность).\n",
        "___\n",
        "\n",
        "Задание 1. Создайте ниже три переменных и проверьте их типы:\n",
        "- со строковым типом,\n",
        "- с целочисленным типом,\n",
        "- с логическим типом данных."
      ],
      "metadata": {
        "id": "zsd-1TWNL9Uu"
      }
    },
    {
      "cell_type": "code",
      "source": [
        ""
      ],
      "metadata": {
        "id": "pRm7dlkvfuU5"
      },
      "execution_count": null,
      "outputs": []
    },
    {
      "cell_type": "markdown",
      "source": [
        "Задание 2. Попробуйте создать переменную с некорректным именем и вывести ее:\n"
      ],
      "metadata": {
        "id": "tT1d-hWNMUZm"
      }
    },
    {
      "cell_type": "code",
      "metadata": {
        "id": "1J2NmR0Mr5V2"
      },
      "source": [
        ""
      ],
      "execution_count": null,
      "outputs": []
    },
    {
      "cell_type": "markdown",
      "source": [
        "### 4. Математические операторы"
      ],
      "metadata": {
        "id": "Jy2aMqW0jK6V"
      }
    },
    {
      "cell_type": "code",
      "metadata": {
        "colab": {
          "base_uri": "https://localhost:8080/",
          "height": 405
        },
        "id": "-tuQcmpvr5V_",
        "outputId": "30419681-b2dc-4f83-a6c6-80ddb4f29e7f"
      },
      "source": [
        "from IPython.display import Image\n",
        "Image(url='https://cf.ppt-online.org/files/slide/k/kIVbKPL7ts9AOjcgUBa1mTd5f3yZGrvShEizen/slide-8.jpg', width=512)"
      ],
      "execution_count": null,
      "outputs": [
        {
          "output_type": "execute_result",
          "data": {
            "text/html": [
              "<img src=\"https://cf.ppt-online.org/files/slide/k/kIVbKPL7ts9AOjcgUBa1mTd5f3yZGrvShEizen/slide-8.jpg\" width=\"512\"/>"
            ],
            "text/plain": [
              "<IPython.core.display.Image object>"
            ]
          },
          "metadata": {},
          "execution_count": 4
        }
      ]
    },
    {
      "cell_type": "markdown",
      "source": [
        "Задание 3. Создайте несколько выражений со всеми арифметическими операторами из таблицы выше и вычислите результат:"
      ],
      "metadata": {
        "id": "6tgcmr0SjTMT"
      }
    },
    {
      "cell_type": "code",
      "source": [
        ""
      ],
      "metadata": {
        "id": "WlVQr-m-jftT"
      },
      "execution_count": null,
      "outputs": []
    },
    {
      "cell_type": "markdown",
      "metadata": {
        "id": "c3uNoWAKr5WC"
      },
      "source": [
        "Операции над числами разных типов возвращают число, имеющее более сложный тип из типов, участвующих в операции."
      ]
    },
    {
      "cell_type": "code",
      "metadata": {
        "id": "Rlnz6JoCr5WC"
      },
      "source": [
        "8 + 19 - 21.5"
      ],
      "execution_count": null,
      "outputs": []
    },
    {
      "cell_type": "markdown",
      "source": [
        "### 5. Операторы присваивания\n",
        "Оператор присваивания присваивает значение переменной. Он может манипулировать значением до присваивания. Есть восемь операторов присваивания: один простой и остальные с использованием арифметических операторов.\n",
        "\n"
      ],
      "metadata": {
        "id": "CmsQ-n9ylhIW"
      }
    },
    {
      "cell_type": "markdown",
      "metadata": {
        "id": "SUVWd4cLr5WD"
      },
      "source": [
        "![Image](https://webformyself.com/wp-content/uploads/2017/379/4.jpg)"
      ]
    },
    {
      "cell_type": "code",
      "metadata": {
        "id": "PGZXJpPUr5WD"
      },
      "source": [
        "a = 34\n",
        "a = a - 4\n",
        "a"
      ],
      "execution_count": null,
      "outputs": []
    },
    {
      "cell_type": "markdown",
      "source": [
        "Задание 4. Составьте самостоятельно выражения с операторами присваивания."
      ],
      "metadata": {
        "id": "uj5ubMQ6l4SF"
      }
    },
    {
      "cell_type": "code",
      "source": [
        ""
      ],
      "metadata": {
        "id": "mnOdozfjl2Y9"
      },
      "execution_count": null,
      "outputs": []
    },
    {
      "cell_type": "markdown",
      "metadata": {
        "id": "ZmSBQe5sr5WF"
      },
      "source": [
        "### 6. Преобразования типов"
      ]
    },
    {
      "cell_type": "code",
      "metadata": {
        "id": "btEo7LGIr5WF",
        "colab": {
          "base_uri": "https://localhost:8080/"
        },
        "outputId": "01f65e65-3d74-4374-db63-cbcaa0f3bf49"
      },
      "source": [
        "b = 8.14\n",
        "int(b)"
      ],
      "execution_count": null,
      "outputs": [
        {
          "output_type": "execute_result",
          "data": {
            "text/plain": [
              "8"
            ]
          },
          "metadata": {},
          "execution_count": 1
        }
      ]
    },
    {
      "cell_type": "code",
      "metadata": {
        "id": "g4B9Z05Lr5WG",
        "colab": {
          "base_uri": "https://localhost:8080/"
        },
        "outputId": "6860ca5d-07be-4b1b-a4a6-85b27c4d0602"
      },
      "source": [
        "float(57)"
      ],
      "execution_count": null,
      "outputs": [
        {
          "output_type": "execute_result",
          "data": {
            "text/plain": [
              "57.0"
            ]
          },
          "metadata": {},
          "execution_count": 2
        }
      ]
    },
    {
      "cell_type": "code",
      "metadata": {
        "id": "3V2nVztWr5WH",
        "colab": {
          "base_uri": "https://localhost:8080/"
        },
        "outputId": "983b44e0-0a65-4835-8ace-b5992b723e15"
      },
      "source": [
        "int('2022')"
      ],
      "execution_count": null,
      "outputs": [
        {
          "output_type": "execute_result",
          "data": {
            "text/plain": [
              "2022"
            ]
          },
          "metadata": {},
          "execution_count": 3
        }
      ]
    },
    {
      "cell_type": "code",
      "metadata": {
        "id": "7Gb0guf8r5WI",
        "colab": {
          "base_uri": "https://localhost:8080/"
        },
        "outputId": "8bf929c9-5b21-473e-92cd-ca8e40fde1ea"
      },
      "source": [
        "float('-32')"
      ],
      "execution_count": null,
      "outputs": [
        {
          "output_type": "execute_result",
          "data": {
            "text/plain": [
              "-32.0"
            ]
          },
          "metadata": {},
          "execution_count": 4
        }
      ]
    },
    {
      "cell_type": "code",
      "metadata": {
        "id": "PQtOKlWKr5WI",
        "colab": {
          "base_uri": "https://localhost:8080/",
          "height": 164
        },
        "outputId": "18bf279e-9052-4120-8d97-c299d68fd850"
      },
      "source": [
        "float('SoFunny!')"
      ],
      "execution_count": null,
      "outputs": [
        {
          "output_type": "error",
          "ename": "ValueError",
          "evalue": "ignored",
          "traceback": [
            "\u001b[0;31m---------------------------------------------------------------------------\u001b[0m",
            "\u001b[0;31mValueError\u001b[0m                                Traceback (most recent call last)",
            "\u001b[0;32m<ipython-input-5-2e99b9450c39>\u001b[0m in \u001b[0;36m<module>\u001b[0;34m()\u001b[0m\n\u001b[0;32m----> 1\u001b[0;31m \u001b[0mfloat\u001b[0m\u001b[0;34m(\u001b[0m\u001b[0;34m'SoFunny!'\u001b[0m\u001b[0;34m)\u001b[0m\u001b[0;34m\u001b[0m\u001b[0;34m\u001b[0m\u001b[0m\n\u001b[0m",
            "\u001b[0;31mValueError\u001b[0m: could not convert string to float: 'SoFunny!'"
          ]
        }
      ]
    },
    {
      "cell_type": "code",
      "metadata": {
        "id": "Xn7NRz7yr5WK"
      },
      "source": [
        "int(True)"
      ],
      "execution_count": null,
      "outputs": []
    },
    {
      "cell_type": "code",
      "metadata": {
        "id": "NB6PMrGpr5WK"
      },
      "source": [
        "int(False)"
      ],
      "execution_count": null,
      "outputs": []
    },
    {
      "cell_type": "code",
      "metadata": {
        "id": "XSDT3gU7r5WO"
      },
      "source": [
        "bool(4)"
      ],
      "execution_count": null,
      "outputs": []
    },
    {
      "cell_type": "code",
      "metadata": {
        "id": "bX9u6WgSr5WP"
      },
      "source": [
        "bool(-9)"
      ],
      "execution_count": null,
      "outputs": []
    },
    {
      "cell_type": "code",
      "metadata": {
        "id": "jGakJ7ISr5WP"
      },
      "source": [
        "bool(0)"
      ],
      "execution_count": null,
      "outputs": []
    },
    {
      "cell_type": "code",
      "metadata": {
        "id": "w4Qb6DCFr5WP"
      },
      "source": [
        "Image(url='https://cf.ppt-online.org/files/slide/k/kIVbKPL7ts9AOjcgUBa1mTd5f3yZGrvShEizen/slide-13.jpg', width=512)"
      ],
      "execution_count": null,
      "outputs": []
    },
    {
      "cell_type": "markdown",
      "source": [
        "Задание 5. Составьте логические выражения с помощью таблицы выше"
      ],
      "metadata": {
        "id": "FjD7cp_InWjJ"
      }
    },
    {
      "cell_type": "code",
      "metadata": {
        "id": "Ks2E47Y3r5WQ"
      },
      "source": [
        ""
      ],
      "execution_count": null,
      "outputs": []
    },
    {
      "cell_type": "markdown",
      "metadata": {
        "id": "CaAcmaaIr5WQ"
      },
      "source": [
        "Логический оператор \"И\" (and). Условие будет истинным если оба операнда истина.  \n",
        "Логический оператор \"ИЛИ\" (or). Если хотя бы один из операндов истинный, то и все выражение будет истинным.  \n",
        "Логический оператор \"НЕ\" (not). Изменяет логическое значение операнда на противоположное."
      ]
    },
    {
      "cell_type": "code",
      "metadata": {
        "id": "yya8dv7_r5WS"
      },
      "source": [
        "x = True\n",
        "y = False\n",
        "x and y"
      ],
      "execution_count": null,
      "outputs": []
    },
    {
      "cell_type": "code",
      "metadata": {
        "id": "bvKxq-E5r5WT"
      },
      "source": [
        "a = True\n",
        "b = True\n",
        "a and b"
      ],
      "execution_count": null,
      "outputs": []
    },
    {
      "cell_type": "code",
      "metadata": {
        "id": "TuGCt86or5WU"
      },
      "source": [
        "a = 70\n",
        "b = 80"
      ],
      "execution_count": null,
      "outputs": []
    },
    {
      "cell_type": "code",
      "metadata": {
        "id": "4JH3C0JDr5WU"
      },
      "source": [
        "a > 5 and b < 10"
      ],
      "execution_count": null,
      "outputs": []
    },
    {
      "cell_type": "code",
      "metadata": {
        "id": "Rtp7HSpEr5WV"
      },
      "source": [
        "a = False\n",
        "b = False\n",
        "a or b"
      ],
      "execution_count": null,
      "outputs": []
    },
    {
      "cell_type": "code",
      "metadata": {
        "id": "IgfHaTblr5WW"
      },
      "source": [
        "a > 50 or b < 10"
      ],
      "execution_count": null,
      "outputs": []
    },
    {
      "cell_type": "code",
      "metadata": {
        "id": "Zw4T8k4er5WW"
      },
      "source": [
        "not True"
      ],
      "execution_count": null,
      "outputs": []
    },
    {
      "cell_type": "markdown",
      "metadata": {
        "id": "KTbyhu8Fr5WX"
      },
      "source": [
        "#### NoneType\n",
        "В Python None является эквивалентом null.  \n",
        "*None – отсутствие значения, т.е. None обозначает, что конкретное значение отсутствует.*"
      ]
    },
    {
      "cell_type": "code",
      "metadata": {
        "id": "r94IhxQor5WY"
      },
      "source": [
        "c = None\n",
        "type(c)"
      ],
      "execution_count": null,
      "outputs": []
    },
    {
      "cell_type": "markdown",
      "source": [
        "### 7. Строки"
      ],
      "metadata": {
        "id": "posha3Fn3zzT"
      }
    },
    {
      "cell_type": "markdown",
      "source": [
        "В последовательностях каждый элемент имеет свою позицию (индекс), в соответствии с которой элемент сохраняется и извлекается из последовательности. \n",
        "\n",
        "\n",
        "Строки (str) - неизменяемые последовательности символов:"
      ],
      "metadata": {
        "id": "hioRgrph3ZzB"
      }
    },
    {
      "cell_type": "code",
      "source": [
        "poem = 'Буря мглою небо кроет'"
      ],
      "metadata": {
        "id": "0ty1hlip4lhT"
      },
      "execution_count": null,
      "outputs": []
    },
    {
      "cell_type": "code",
      "source": [
        "poem = '''Буря мглою небо кроет\n",
        "Вихри снежные крутя;\n",
        "То, как зверь, она завоет,\n",
        "То заплачет, как дитя'''"
      ],
      "metadata": {
        "id": "SQi2oJeF4u5m"
      },
      "execution_count": null,
      "outputs": []
    },
    {
      "cell_type": "code",
      "source": [
        "poem"
      ],
      "metadata": {
        "id": "unJzAgbT5FMD"
      },
      "execution_count": null,
      "outputs": []
    },
    {
      "cell_type": "markdown",
      "source": [
        "Чтобы обратиться к элементу по индексу: имя_последовательности[индекс]\n",
        "\n",
        "Индексация в Python начинается с 0. Также можно использовать обратную индексацию - номер последнего элемента имеет индекс -1."
      ],
      "metadata": {
        "id": "u9glXDx_5Yrq"
      }
    },
    {
      "cell_type": "code",
      "source": [
        "poem[5]"
      ],
      "metadata": {
        "colab": {
          "base_uri": "https://localhost:8080/",
          "height": 37
        },
        "id": "ytGBy1XG54lX",
        "outputId": "bafbd5b5-9442-4f37-a385-9dbdf1c2ca9f"
      },
      "execution_count": null,
      "outputs": [
        {
          "output_type": "execute_result",
          "data": {
            "application/vnd.google.colaboratory.intrinsic+json": {
              "type": "string"
            },
            "text/plain": [
              "'м'"
            ]
          },
          "metadata": {},
          "execution_count": 18
        }
      ]
    },
    {
      "cell_type": "code",
      "source": [
        "poem [-4]"
      ],
      "metadata": {
        "id": "qaO_LfIe5W6O"
      },
      "execution_count": null,
      "outputs": []
    },
    {
      "cell_type": "markdown",
      "source": [
        "Операция взятия среза: имя_последовательности[начало:конец(не включается):шаг].\n",
        "\n",
        "Если начало не указано - используется 0; если не указан конец, то берется конец строки; если не указан шаг, используется шаг равный 1."
      ],
      "metadata": {
        "id": "WwIqEZUW6Fij"
      }
    },
    {
      "cell_type": "code",
      "source": [
        "poem[-4::]"
      ],
      "metadata": {
        "id": "-fSCCdL06EW2"
      },
      "execution_count": null,
      "outputs": []
    },
    {
      "cell_type": "markdown",
      "source": [
        "Конкатенация — операция склеивания строк:"
      ],
      "metadata": {
        "id": "qjL-jLsZ6iq5"
      }
    },
    {
      "cell_type": "code",
      "source": [
        "'снеж' + 'ные'"
      ],
      "metadata": {
        "id": "C3goTOJA6m2W"
      },
      "execution_count": null,
      "outputs": []
    },
    {
      "cell_type": "markdown",
      "source": [
        "Умножение строк:"
      ],
      "metadata": {
        "id": "9yutHewQ66WB"
      }
    },
    {
      "cell_type": "code",
      "source": [
        "poem[:4:] * 3"
      ],
      "metadata": {
        "colab": {
          "base_uri": "https://localhost:8080/",
          "height": 37
        },
        "id": "uLLUwaPq7DNe",
        "outputId": "e3d1ddff-e3f0-4d37-cc4c-6ee9c7f5452b"
      },
      "execution_count": null,
      "outputs": [
        {
          "output_type": "execute_result",
          "data": {
            "application/vnd.google.colaboratory.intrinsic+json": {
              "type": "string"
            },
            "text/plain": [
              "'БуряБуряБуря'"
            ]
          },
          "metadata": {},
          "execution_count": 17
        }
      ]
    },
    {
      "cell_type": "code",
      "source": [
        "'Вьюга' in poem"
      ],
      "metadata": {
        "id": "Kfap8zZH7bCM"
      },
      "execution_count": null,
      "outputs": []
    },
    {
      "cell_type": "code",
      "source": [
        "'Буря' in poem"
      ],
      "metadata": {
        "id": "yjNHYZ8s7o6X"
      },
      "execution_count": null,
      "outputs": []
    },
    {
      "cell_type": "markdown",
      "source": [
        "Строки - неизменяемый тип данных, нельзя присвоить элементу строки другое значение"
      ],
      "metadata": {
        "id": "B7UjTLkG774g"
      }
    },
    {
      "cell_type": "code",
      "source": [
        "poem[-4] = 'М'"
      ],
      "metadata": {
        "id": "IGVe2xIm8BjS"
      },
      "execution_count": null,
      "outputs": []
    },
    {
      "cell_type": "markdown",
      "source": [
        "Преобразование в строки:"
      ],
      "metadata": {
        "id": "seddqhQU-LQf"
      }
    },
    {
      "cell_type": "code",
      "source": [
        "str(2022)"
      ],
      "metadata": {
        "id": "G6j2IozJ-OPq"
      },
      "execution_count": null,
      "outputs": []
    },
    {
      "cell_type": "markdown",
      "source": [
        "Задание 6. Присвойте переменной строковое значение, содержащее строчку из любого стихотворения или песни. Произведите операцию взятия среза: выведите отдельно одно слово из этой строчки."
      ],
      "metadata": {
        "id": "JxFDTY7v8duG"
      }
    },
    {
      "cell_type": "code",
      "source": [
        ""
      ],
      "metadata": {
        "id": "KX6nPJpV8dMb"
      },
      "execution_count": null,
      "outputs": []
    },
    {
      "cell_type": "markdown",
      "source": [
        "## 8. Списки\n",
        "\n",
        "Списки (list) - изменяемые последовательности произвольных элементов"
      ],
      "metadata": {
        "id": "oVaoHqzP9QC2"
      }
    },
    {
      "cell_type": "code",
      "source": [
        "l = [4, 2, 'вопрос о жизни, вселенной и всем таком', [8.0, 9.0]]\n",
        "l"
      ],
      "metadata": {
        "id": "bycy82ix9inb"
      },
      "execution_count": null,
      "outputs": []
    },
    {
      "cell_type": "code",
      "source": [
        "type(l)"
      ],
      "metadata": {
        "id": "JC6YFbVE-UOi"
      },
      "execution_count": null,
      "outputs": []
    },
    {
      "cell_type": "code",
      "source": [
        "m = list('вы продаете рыбов?')\n",
        "m"
      ],
      "metadata": {
        "id": "GpUBe_Xg-deo"
      },
      "execution_count": null,
      "outputs": []
    },
    {
      "cell_type": "code",
      "source": [
        "m[-6::]"
      ],
      "metadata": {
        "id": "Pm6tfBEa_GaO"
      },
      "execution_count": null,
      "outputs": []
    },
    {
      "cell_type": "code",
      "source": [
        "l[:2:]"
      ],
      "metadata": {
        "id": "_BBrdcDC_yvo"
      },
      "execution_count": null,
      "outputs": []
    },
    {
      "cell_type": "code",
      "source": [
        "l[:2:] * 3"
      ],
      "metadata": {
        "id": "3NfsPv5K_jWR"
      },
      "execution_count": null,
      "outputs": []
    },
    {
      "cell_type": "code",
      "source": [
        "m + l"
      ],
      "metadata": {
        "id": "hX6zDo16_8iD"
      },
      "execution_count": null,
      "outputs": []
    },
    {
      "cell_type": "markdown",
      "source": [
        "### 9. Кортежи (tuple) \n",
        "неизменяемые последовательности произвольных элементов"
      ],
      "metadata": {
        "id": "jQcSayx3QxrK"
      }
    },
    {
      "cell_type": "code",
      "source": [
        "a = (1, 2, 3, 4, 5, 6)"
      ],
      "metadata": {
        "id": "IYYUivkjRIVa"
      },
      "execution_count": null,
      "outputs": []
    },
    {
      "cell_type": "markdown",
      "source": [
        "Задание 7. Сформируйте список и кортеж. Продемонстрируйте, что список можно имзенить, а кортеж нет."
      ],
      "metadata": {
        "id": "yECOKhfRRLAR"
      }
    },
    {
      "cell_type": "code",
      "source": [
        ""
      ],
      "metadata": {
        "id": "4--sEO3pRKaA"
      },
      "execution_count": null,
      "outputs": []
    },
    {
      "cell_type": "markdown",
      "source": [
        "### 10. Диапазоны (range) \n",
        "неизменяемые последовательности целых чисел:\n",
        "\n",
        "range(начало, конец(не включительно), шаг)"
      ],
      "metadata": {
        "id": "QS9FEKLgRhRm"
      }
    },
    {
      "cell_type": "code",
      "source": [
        "r = range(5,15)"
      ],
      "metadata": {
        "id": "dTjAT45QRnhH"
      },
      "execution_count": null,
      "outputs": []
    },
    {
      "cell_type": "code",
      "source": [
        "for i in r:\n",
        "    print(i)"
      ],
      "metadata": {
        "id": "ULQudIFSSmja"
      },
      "execution_count": null,
      "outputs": []
    },
    {
      "cell_type": "markdown",
      "source": [
        "### 11. Словари (dict)\n",
        "изменяемые отображения"
      ],
      "metadata": {
        "id": "uClsrmRxTtlU"
      }
    },
    {
      "cell_type": "code",
      "source": [
        "d = {1: 'red', 2: 'blue'}"
      ],
      "metadata": {
        "id": "MZA0UuF-Sxtl"
      },
      "execution_count": null,
      "outputs": []
    },
    {
      "cell_type": "code",
      "source": [
        "# Добавление элемента в словарь\n",
        "d[3] = 'green'"
      ],
      "metadata": {
        "id": "7sS2U9cOTQJS"
      },
      "execution_count": null,
      "outputs": []
    },
    {
      "cell_type": "code",
      "source": [
        "d"
      ],
      "metadata": {
        "id": "0LMm3SxHTVJa"
      },
      "execution_count": null,
      "outputs": []
    },
    {
      "cell_type": "markdown",
      "source": [
        "Задание 8. Составьте англо-русский словарь из пяти слов.\n",
        "\n"
      ],
      "metadata": {
        "id": "YAAJzgQMS81S"
      }
    },
    {
      "cell_type": "code",
      "source": [
        ""
      ],
      "metadata": {
        "id": "n0aEsQ0bTwc8"
      },
      "execution_count": null,
      "outputs": []
    },
    {
      "cell_type": "markdown",
      "source": [
        "### 12. Множества (set) \n",
        "неупорядоченные коллекции уникальных элементов\n",
        "\n",
        "В отличие от массивов, где элементы хранятся в виде последовательного списка, в множествах порядок хранения элементов неопределен"
      ],
      "metadata": {
        "id": "l2FvR6JeTm2s"
      }
    },
    {
      "cell_type": "code",
      "source": [
        "s = {2, 3, 3, 3, 1, 6, 4}"
      ],
      "metadata": {
        "id": "HYgRxX8yTyUC"
      },
      "execution_count": null,
      "outputs": []
    }
  ]
}
