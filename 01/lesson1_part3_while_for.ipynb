{
  "cells": [
    {
      "cell_type": "markdown",
      "metadata": {
        "id": "view-in-github",
        "colab_type": "text"
      },
      "source": [
        "<a href=\"https://colab.research.google.com/github/ValentinKarev/Technology_of_ML/blob/main/01/lesson1_part3_while_for.ipynb\" target=\"_parent\"><img src=\"https://colab.research.google.com/assets/colab-badge.svg\" alt=\"Open In Colab\"/></a>"
      ]
    },
    {
      "cell_type": "markdown",
      "metadata": {
        "id": "vNIpmiYIPOQM"
      },
      "source": [
        "# Урок 1. Основы языка Python"
      ]
    },
    {
      "cell_type": "markdown",
      "metadata": {
        "id": "-B28JxwnPOQO"
      },
      "source": [
        "## Часть 3. Циклы"
      ]
    },
    {
      "cell_type": "markdown",
      "metadata": {
        "id": "xr5F6EIiPOQO"
      },
      "source": [
        "Цикл While\n",
        "===\n",
        "Цикл While очень удобен, потому что он позволяет Вашей программе работать, пока Вы не решите её остановить. Эта конструкция позволяет организовать бесконечный цикл, который ждет действий пользователя."
      ]
    },
    {
      "cell_type": "markdown",
      "metadata": {
        "id": "hLTRl8IwPOQO"
      },
      "source": [
        "Что такое цикл while?\n",
        "===\n",
        "Цикл while проверяет начальные условия. Если условие выполняется, цикл начинает работать. Каждый раз когда проходит одна итерация, условие проверяется снова. До тех пор, пока условие выполняется, цикл продолжает работать. Как только условие перестает выполняться, цикл заканчивает свою работу."
      ]
    },
    {
      "cell_type": "markdown",
      "metadata": {
        "id": "4G5TraY6POQP"
      },
      "source": [
        "Общий синтаксис\n",
        "---"
      ]
    },
    {
      "cell_type": "markdown",
      "metadata": {
        "id": "GmVFBMZHPOQP"
      },
      "source": [
        "<img src=\"https://github.com/ValentinKarev/ML_for_DNK/blob/main/01/while_cycle.png?raw=true\" height=\"240\" width=\"860\">"
      ]
    },
    {
      "cell_type": "code",
      "execution_count": null,
      "metadata": {
        "collapsed": true,
        "jupyter": {
          "outputs_hidden": true
        },
        "id": "hUVvylwjPOQP"
      },
      "outputs": [],
      "source": [
        "# Python 2 and 3 compatibility\n",
        "# pip install future\n",
        "from __future__ import (absolute_import, division,\n",
        "                        print_function, unicode_literals)\n",
        "from builtins import *"
      ]
    },
    {
      "cell_type": "code",
      "execution_count": null,
      "metadata": {
        "jupyter": {
          "outputs_hidden": false
        },
        "id": "ftw0dFmDPOQQ"
      },
      "outputs": [],
      "source": [
        "# Некоторое начальное условие\n",
        "game_active = True\n",
        "\n",
        "lives = 3\n",
        "# Сам цикл while\n",
        "while game_active:\n",
        "    # Запускаем игру.\n",
        "    # В какой-то момент времени необходимо изменить значение game_active на False.\n",
        "    # Когда это случится, цикл закончит свою работу\n",
        "    if lives == 0:\n",
        "        print(\"Game Over!\")\n",
        "        break\n",
        "\n",
        "# Действия по окончанию цикла"
      ]
    },
    {
      "cell_type": "markdown",
      "metadata": {
        "id": "Yurdx5ifPOQR"
      },
      "source": [
        "- Каждый цикл должен иметь начальное условие которое выполнятеся\n",
        "- Ключевое слово `while` включает в себя проверяемое условие\n",
        "- Код внутри цикла выполняется до тех пор, пока верно начальное условие\n",
        "- Как только что-то меняется и начальное условие не выполняется, цикл перестает выполняться\n",
        "- По окончании цикла выполняется код, написанный далее"
      ]
    },
    {
      "cell_type": "markdown",
      "metadata": {
        "id": "-GZ0v9ziPOQS"
      },
      "source": [
        "Пример\n",
        "---\n",
        "В примере игра, которая продолжается до тех пор, пока у игрока есть силы"
      ]
    },
    {
      "cell_type": "code",
      "execution_count": null,
      "metadata": {
        "jupyter": {
          "outputs_hidden": false
        },
        "id": "TyyRmarwPOQS"
      },
      "outputs": [],
      "source": [
        "# Установим силы игрока - 5.\n",
        "power = 5\n",
        "\n",
        "# Играть можно пока сил не станет - 0.\n",
        "while power > 0:\n",
        "    print(\"You are still playing because your power is %d.\" % power)\n",
        "    # игра начинается тут:\n",
        "    #   возможная потеря сил\n",
        "    # Допустим, с каждым разом сила у Люка уменьшается на 1\n",
        "    power = power - 1\n",
        "else:\n",
        "    print(\"\\nOh no, your power dropped to 0! Game Over.\")"
      ]
    },
    {
      "cell_type": "markdown",
      "metadata": {
        "id": "yqWSGpfmPOQU"
      },
      "source": [
        "Другое применение цикла while\n",
        "===\n",
        "Большинство программ работают до тех пор, пока вы не завершите работу, введя quit, exit ...etc. Рассмотрим пример организации цикла для подобного рода поведения:"
      ]
    },
    {
      "cell_type": "code",
      "execution_count": null,
      "metadata": {
        "jupyter": {
          "outputs_hidden": false
        },
        "id": "JvAeh6IXPOQU"
      },
      "outputs": [],
      "source": [
        "# Создадим список\n",
        "names = []\n",
        "\n",
        "# Определим переменную new_name отличную от 'quit'.\n",
        "new_name = ''\n",
        "\n",
        "# Начнем цикл, который будет выполняться до тех пор, пока не набрано 'quit'.\n",
        "while new_name != 'quit':\n",
        "    # Попросим пользователя ввести имя\n",
        "    new_name = input(\"Please tell me someone I should know or enter 'quit': \")\n",
        "\n",
        "    # Добавим это имя в список который был создан ранее\n",
        "    names.append(new_name)\n",
        "\n",
        "# Покажем что все, что было набрано - добавлено в наш список.\n",
        "print(names)"
      ]
    },
    {
      "cell_type": "markdown",
      "metadata": {
        "id": "jxnhVroTPOQV"
      },
      "source": [
        "Все хорошо, но! - 'quit' добавилось в лист. Давайте добавим `if` чтобы убрать этот баг:"
      ]
    },
    {
      "cell_type": "code",
      "execution_count": null,
      "metadata": {
        "jupyter": {
          "outputs_hidden": false
        },
        "id": "DBKqYmRiPOQV"
      },
      "outputs": [],
      "source": [
        "#Ничего нового\n",
        "names = []\n",
        "\n",
        "new_name = ''\n",
        "\n",
        "while new_name != 'quit':\n",
        "    new_name = input(\"Please tell me someone I should know, or enter 'quit': \")\n",
        "    names.append(new_name)\n",
        "\n",
        "del names[-1]\n",
        "\n",
        "print(names)"
      ]
    },
    {
      "cell_type": "markdown",
      "metadata": {
        "id": "PIPsEMLmPOQV"
      },
      "source": [
        "Теперь у нас есть способ организации ввода для пользователя и контроля времени выполнения программы."
      ]
    },
    {
      "cell_type": "markdown",
      "metadata": {
        "id": "JcEv1QHZPOQV"
      },
      "source": [
        "Использование цикла while для создания меню\n",
        "==="
      ]
    },
    {
      "cell_type": "code",
      "execution_count": null,
      "metadata": {
        "jupyter": {
          "outputs_hidden": false
        },
        "id": "GsSuVlyAPOQW"
      },
      "outputs": [],
      "source": [
        "# Give the user some context.\n",
        "print(\"\\nWelcome to the nature center. What would you like to do?\")\n",
        "\n",
        "# Set an initial value for choice other than the value for 'quit'.\n",
        "choice = ''\n",
        "\n",
        "# Start a loop that runs until the user enters the value for 'quit'.\n",
        "while choice != 'q':\n",
        "    # Give all the choices in a series of print statements.\n",
        "    print(\"\\n[1] Enter 1 to take a bicycle ride.\")\n",
        "    print(\"[2] Enter 2 to go for a run.\")\n",
        "    print(\"[3] Enter 3 to climb a mountain.\")\n",
        "    print(\"[q] Enter q to quit.\")\n",
        "\n",
        "    # Ask for the user's choice.\n",
        "    choice = input(\"\\nWhat would you like to do? \")\n",
        "\n",
        "    # Respond to the user's choice.\n",
        "    if choice == '1':\n",
        "        print(\"\\nHere's a bicycle. Have fun!\\n\")\n",
        "    elif choice == '2':\n",
        "        print(\"\\nHere are some running shoes. Run fast!\\n\")\n",
        "    elif choice == '3':\n",
        "        print(\"\\nHere's a map. Can you leave a trip plan for us?\\n\")\n",
        "    elif choice == 'q':\n",
        "        print(\"\\nThanks for playing. See you later.\\n\")\n",
        "    else:\n",
        "        print(\"\\nI don't understand that choice, please try again.\\n\")\n",
        "\n",
        "# Print a message that we are all finished.\n",
        "print(\"Thanks again, bye now.\")"
      ]
    },
    {
      "cell_type": "markdown",
      "metadata": {
        "id": "yFm2KlIFPOQW"
      },
      "source": [
        "Ещё одно меню, но немного симпатичного кода"
      ]
    },
    {
      "cell_type": "code",
      "execution_count": null,
      "metadata": {
        "jupyter": {
          "outputs_hidden": false
        },
        "id": "lvwsV3KXPOQW"
      },
      "outputs": [],
      "source": [
        "# Define the actions for each choice we want to offer.\n",
        "def ride_bicycle():\n",
        "    print(\"\\nHere's a bicycle. Have fun!\\n\")\n",
        "\n",
        "def go_running():\n",
        "    print(\"\\nHere are some running shoes. Run fast!\\n\")\n",
        "\n",
        "def climb_mountain():\n",
        "    print(\"\\nHere's a map. Can you leave a trip plan for us?\\n\")\n",
        "\n",
        "# Give the user some context.\n",
        "print(\"\\nWelcome to the nature center. What would you like to do?\")\n",
        "\n",
        "# Set an initial value for choice other than the value for 'quit'.\n",
        "choice = ''\n",
        "\n",
        "# Start a loop that runs until the user enters the value for 'quit'.\n",
        "while choice != 'q':\n",
        "    # Give all the choices in a series of print statements.\n",
        "    print(\"\\n[1] Enter 1 to take a bicycle ride.\")\n",
        "    print(\"[2] Enter 2 to go for a run.\")\n",
        "    print(\"[3] Enter 3 to climb a mountain.\")\n",
        "    print(\"[q] Enter q to quit.\")\n",
        "\n",
        "    # Ask for the user's choice.\n",
        "    choice = input(\"\\nWhat would you like to do? \")\n",
        "\n",
        "    # Respond to the user's choice.\n",
        "    if choice == '1':\n",
        "        ride_bicycle()\n",
        "    elif choice == '2':\n",
        "        go_running()\n",
        "    elif choice == '3':\n",
        "        climb_mountain()\n",
        "    elif choice == 'q':\n",
        "        print(\"\\nThanks for playing. See you later.\\n\")\n",
        "    else:\n",
        "        print(\"\\nI don't understand that choice, please try again.\\n\")\n",
        "\n",
        "# Print a message that we are all finished.\n",
        "print(\"Thanks again, bye now.\")"
      ]
    },
    {
      "cell_type": "markdown",
      "metadata": {
        "id": "nHGzy83hPOQW"
      },
      "source": [
        "Использование while для обработки элементов списка\n",
        "===\n",
        "Мы можем достать элемент списка при помощи `pop()`. Цикл позволят нам пройти по элементам списка и применить к ним какие-то методы. Рассмотрим пример с обработкой неподтвержденных пользователей."
      ]
    },
    {
      "cell_type": "code",
      "execution_count": null,
      "metadata": {
        "jupyter": {
          "outputs_hidden": false
        },
        "id": "FklP2tvjPOQW"
      },
      "outputs": [],
      "source": [
        "# Создадим два списка\n",
        "unconfirmed_users = ['ada', 'billy', 'clarence', 'daria']\n",
        "confirmed_users = []\n",
        "\n",
        "# Пройдем по списку и проверим каждого пользователя\n",
        "while len(unconfirmed_users) > 0:\n",
        "\n",
        "    # Достанем последнего пользователя\n",
        "    current_user = unconfirmed_users.pop()\n",
        "    print(\"Confirming user %s...confirmed!\" % current_user.title())\n",
        "\n",
        "    # добавим его в лист подтвержденных\n",
        "    confirmed_users.append(current_user)\n",
        "\n",
        "# Пруфы обработок\n",
        "print(\"\\nUnconfirmed users:\")\n",
        "for user in unconfirmed_users:\n",
        "    print('- ' + user.title())\n",
        "\n",
        "print(\"\\nConfirmed users:\")\n",
        "for user in confirmed_users:\n",
        "    print('- ' + user.title())"
      ]
    },
    {
      "cell_type": "markdown",
      "metadata": {
        "id": "orE92gddPOQW"
      },
      "source": [
        "Все прекрасно, но давайте сделаем небольшое улучшение. Сейчас мы обрабатываем только новых пользователей. Если пользователи появляются быстрее чем мы их обрабатываем, мы пропустим кучу народу, поэтому надо организовать взаимодействие вида 'первый пришел, первый вышел' (FIFO), поэтому каждый раз мы будет выбирать первого."
      ]
    },
    {
      "cell_type": "code",
      "execution_count": null,
      "metadata": {
        "jupyter": {
          "outputs_hidden": false
        },
        "id": "gbN4TBfsPOQW"
      },
      "outputs": [],
      "source": [
        "# Start with a list of unconfirmed users, and an empty list of confirmed users.\n",
        "unconfirmed_users = ['ada', 'billy', 'clarence', 'daria']\n",
        "confirmed_users = []\n",
        "\n",
        "# Work through the list, and confirm each user.\n",
        "while len(unconfirmed_users) > 0:\n",
        "\n",
        "    # Get the latest unconfirmed user, and process them.\n",
        "    current_user = unconfirmed_users.pop(0)\n",
        "    print(\"Confirming user %s...confirmed!\" % current_user.title())\n",
        "\n",
        "    # Move the current user to the list of confirmed users.\n",
        "    confirmed_users.append(current_user)\n",
        "\n",
        "# Prove that we have finished confirming all users.\n",
        "print(\"\\nUnconfirmed users:\")\n",
        "for user in unconfirmed_users:\n",
        "    print('- ' + user.title())\n",
        "\n",
        "print(\"\\nConfirmed users:\")\n",
        "for user in confirmed_users:\n",
        "    print('- ' + user.title())"
      ]
    },
    {
      "cell_type": "markdown",
      "metadata": {
        "id": "8e9IQ5rUPOQW"
      },
      "source": [
        "Так намного лучше - мы обрабатываем пользователей в порядке их поступления!"
      ]
    },
    {
      "cell_type": "markdown",
      "metadata": {
        "id": "voKLa2HTPOQW"
      },
      "source": [
        "Случайные бесконечные циклы\n",
        "===\n",
        "Иногда нужно выполнить цикл, но неизвестно, сколько итераций нужно совершить. Так часто возникают бесконечные циклы.\n",
        "\n",
        "Давайте посмотрим пример:"
      ]
    },
    {
      "cell_type": "code",
      "execution_count": null,
      "metadata": {
        "jupyter": {
          "outputs_hidden": false
        },
        "id": "Rsvy82zkPOQW"
      },
      "outputs": [],
      "source": [
        "current_number = 1\n",
        "\n",
        "# Count up to 5, printing the number each time.\n",
        "while current_number <= 5:\n",
        "    print(current_number)"
      ]
    },
    {
      "cell_type": "code",
      "execution_count": null,
      "metadata": {
        "jupyter": {
          "outputs_hidden": false
        },
        "id": "8njqkjyWPOQW"
      },
      "outputs": [],
      "source": [
        "1\n",
        "1\n",
        "1\n",
        "1\n",
        "1\n",
        "..."
      ]
    },
    {
      "cell_type": "markdown",
      "metadata": {
        "id": "05tpfcvkPOQX"
      },
      "source": [
        "Не советую запускать код выше :) Как видите, цикл никогда не закончится, но пару советов, если дело плохо:\n",
        "\n",
        "- В большинстве систем, Ctrl-C прервет выполнение работающей программы\n",
        "\n",
        "Цикл бесконечный потому, что условие всегда выполняется. Для корректной работы необходимо в тело цикла добавить операцию инкремента переменной, значение которой проверяется в условии:"
      ]
    },
    {
      "cell_type": "code",
      "execution_count": null,
      "metadata": {
        "jupyter": {
          "outputs_hidden": false
        },
        "id": "wNVCuzVtPOQX"
      },
      "outputs": [],
      "source": [
        "current_number = 1\n",
        "\n",
        "# Count up to 5, printing the number each time.\n",
        "while current_number <= 5:\n",
        "    print(current_number)\n",
        "    current_number = current_number + 1"
      ]
    },
    {
      "cell_type": "markdown",
      "metadata": {
        "id": "FW6bDqguPOQX"
      },
      "source": [
        "Если Вы не написали бесконечный цикл хотя бы один раз, значит Вы никогда не писали циклы. Если Вы все-таки решили узнать, как выглядит бесконечность - нажмите CTR + C и ищите логическую ошибку.\n",
        "\n",
        "Ещё пара плохих примеров:"
      ]
    },
    {
      "cell_type": "code",
      "execution_count": null,
      "metadata": {
        "jupyter": {
          "outputs_hidden": false
        },
        "id": "Pev_rt4lPOQX"
      },
      "outputs": [],
      "source": [
        "current_number = 1\n",
        "\n",
        "# Считаем до 5, печатая номер каждый раз.\n",
        "while current_number <= 5:\n",
        "    print(current_number)\n",
        "    current_number = current_number - 1"
      ]
    },
    {
      "cell_type": "code",
      "execution_count": null,
      "metadata": {
        "jupyter": {
          "outputs_hidden": false
        },
        "id": "sbmnyoHiPOQX"
      },
      "outputs": [],
      "source": [
        "1\n",
        "0\n",
        "-1\n",
        "-2\n",
        "-3\n",
        "..."
      ]
    },
    {
      "cell_type": "markdown",
      "metadata": {
        "id": "q1IksuBtPOQX"
      },
      "source": [
        "Как видите, мы случайно начали считать не в ту сторону. Будьте внимательны!"
      ]
    },
    {
      "cell_type": "markdown",
      "metadata": {
        "id": "kw0DnZC-POQX"
      },
      "source": [
        "## Инструкции для работы с циклами\n",
        "---\n",
        "- **break** - Производит переход за пределы цикла\n",
        "\n",
        "- **continue** - Производит переход в начало цикла\n",
        "\n",
        "- **pass** - Ничего не делает, используется как заполнитель\n",
        "\n",
        "Блок **else** - выполняется, если цикл завершился необычным образом (break не в счет)\n",
        "\n",
        "Как это выглядит:"
      ]
    },
    {
      "cell_type": "markdown",
      "metadata": {
        "id": "QXei0tY2POQX"
      },
      "source": [
        "while <test1>:\n",
        "\n",
        "    <statements1>\n",
        "    \n",
        "    if <test2>: break # Выйти из цикла, пропустив часть else\n",
        "    \n",
        "    if <test3>: continue # Перейти в начало цикла, к выражению test1\n",
        "    \n",
        "else:\n",
        "\n",
        "    <statements2> # Выполняется, если не была использована инструкция ‘break’"
      ]
    },
    {
      "cell_type": "markdown",
      "metadata": {
        "id": "QV94JjQnPOQY"
      },
      "source": [
        "Инструкции **break** и **continue** могут появляться в любом месте внутри тела цикла **while** (или *for*), но, как правило, они используются в условных инструкциях **if**, чтобы выполнить необходимое действие в ответ на некоторое условие."
      ]
    },
    {
      "cell_type": "markdown",
      "metadata": {
        "id": "gX3EdWkhPOQY"
      },
      "source": [
        "## Использование Continue"
      ]
    },
    {
      "cell_type": "code",
      "execution_count": null,
      "metadata": {
        "jupyter": {
          "outputs_hidden": false
        },
        "id": "ZbNlx0btPOQY",
        "outputId": "500bcc2f-3bfb-417b-bb70-afd41fb25177"
      },
      "outputs": [
        {
          "name": "stdout",
          "output_type": "stream",
          "text": [
            "8\n",
            "6\n",
            "4\n",
            "2\n",
            "0\n"
          ]
        }
      ],
      "source": [
        "x = 10\n",
        "while x:\n",
        "    x = x - 1 # Или, x -= 1\n",
        "    if x % 2 != 0: continue # Нечетное? – пропустить вывод\n",
        "    print(x)"
      ]
    },
    {
      "cell_type": "markdown",
      "metadata": {
        "id": "2JdPWUFHPOQY"
      },
      "source": [
        "## Использование Break"
      ]
    },
    {
      "cell_type": "code",
      "execution_count": null,
      "metadata": {
        "jupyter": {
          "outputs_hidden": false
        },
        "id": "tljfD3ZbPOQY",
        "outputId": "015ca3e3-d14d-499b-902b-5951445ca59c"
      },
      "outputs": [
        {
          "name": "stdout",
          "output_type": "stream",
          "text": [
            "Enter name:Yury\n",
            "Enter age: stop\n"
          ]
        },
        {
          "ename": "ValueError",
          "evalue": "invalid literal for int() with base 10: 'stop'",
          "output_type": "error",
          "traceback": [
            "\u001b[0;31m---------------------------------------------------------------------------\u001b[0m",
            "\u001b[0;31mValueError\u001b[0m                                Traceback (most recent call last)",
            "\u001b[0;32m<ipython-input-4-d1679e7df7f8>\u001b[0m in \u001b[0;36m<module>\u001b[0;34m()\u001b[0m\n\u001b[1;32m      3\u001b[0m     \u001b[0;32mif\u001b[0m \u001b[0mname\u001b[0m \u001b[0;34m==\u001b[0m \u001b[0;34m'stop'\u001b[0m\u001b[0;34m:\u001b[0m \u001b[0;32mbreak\u001b[0m\u001b[0;34m\u001b[0m\u001b[0m\n\u001b[1;32m      4\u001b[0m     \u001b[0mage\u001b[0m \u001b[0;34m=\u001b[0m \u001b[0minput\u001b[0m\u001b[0;34m(\u001b[0m\u001b[0;34m'Enter age: '\u001b[0m\u001b[0;34m)\u001b[0m\u001b[0;34m\u001b[0m\u001b[0m\n\u001b[0;32m----> 5\u001b[0;31m     \u001b[0mprint\u001b[0m\u001b[0;34m(\u001b[0m\u001b[0;34m'Hello'\u001b[0m\u001b[0;34m,\u001b[0m \u001b[0mname\u001b[0m\u001b[0;34m,\u001b[0m \u001b[0;34m'=>'\u001b[0m\u001b[0;34m,\u001b[0m \u001b[0mint\u001b[0m\u001b[0;34m(\u001b[0m\u001b[0mage\u001b[0m\u001b[0;34m)\u001b[0m \u001b[0;34m**\u001b[0m \u001b[0;36m2\u001b[0m\u001b[0;34m)\u001b[0m\u001b[0;34m\u001b[0m\u001b[0m\n\u001b[0m",
            "\u001b[0;31mValueError\u001b[0m: invalid literal for int() with base 10: 'stop'"
          ]
        }
      ],
      "source": [
        "while 1:\n",
        "    name = input('Enter name:')\n",
        "    if name == 'stop': break\n",
        "    age = input('Enter age: ')\n",
        "    print('Hello', name, '=>', int(age) ** 2)"
      ]
    },
    {
      "cell_type": "markdown",
      "metadata": {
        "id": "6gLXGI1uPOQY"
      },
      "source": [
        "## Использование Else\n",
        "Пример на проверку, простое ли число y"
      ]
    },
    {
      "cell_type": "code",
      "execution_count": null,
      "metadata": {
        "jupyter": {
          "outputs_hidden": false
        },
        "id": "_xMj5Uu4POQZ",
        "outputId": "39bb3454-d736-45ba-dff4-e448f0932b9e"
      },
      "outputs": [
        {
          "name": "stdout",
          "output_type": "stream",
          "text": [
            "23 is prime\n"
          ]
        }
      ],
      "source": [
        "x, y = 4, 23\n",
        "x = y // 2 # Для значений y > 1\n",
        "while x > 1:\n",
        "    if y % x == 0: # y делится на x\n",
        "        print(y, 'has factor', x)\n",
        "        break # Перешагнуть блок else\n",
        "    else: # y не делится на x\n",
        "        x -= 1\n",
        "else: # Нормальное завершение цикла\n",
        "    print(y, 'is prime')"
      ]
    },
    {
      "cell_type": "markdown",
      "metadata": {
        "id": "7XXqYizMPOQZ"
      },
      "source": [
        "## Цикл FOR\n",
        "\n",
        "Цикл for в языке Python начинается со строки заголовка, где указывается переменная для присваивания (цель), а также объект, обход которого будет выполнен. Вслед за заголовком следует блок инструкций, которые требуется выполнить:"
      ]
    },
    {
      "cell_type": "markdown",
      "metadata": {
        "id": "rxxYSZ4mPOQa"
      },
      "source": [
        "<img src=\"https://github.com/ValentinKarev/ML_for_DNK/blob/main/01/for_cycle.png?raw=true\" height=\"240\" width=\"860\">"
      ]
    },
    {
      "cell_type": "markdown",
      "metadata": {
        "id": "ssJQZ007POQa"
      },
      "source": [
        "Когда интерпретатор выполняет цикл for, он поочередно, один за другим, присваивает элементы объекта\n",
        "последовательности переменной цикла и выполняет тело цикла для каждого из них. Для обращения к\n",
        "текущему элементу последовательности в теле цикла обычно используется переменная цикла, как если\n",
        "бы это был курсор, шагающий от элемента к элементу.\n",
        "Имя (target), используемое в качестве переменной цикла (возможно, новой), которое указывается в\n",
        "заголовке цикла for, обычно находится в области видимости, где располагается сама инструкция for. Хотя\n",
        "она может быть изменена в теле цикла, тем не менее ей автоматически будет присвоен следующий\n",
        "элемент последовательности, когда управление вернется в начало цикла. После выхода из цикла эта\n",
        "переменная обычно все еще ссылается на последний элемент последовательности, если цикл не был\n",
        "завершен инструкцией break."
      ]
    },
    {
      "cell_type": "code",
      "execution_count": null,
      "metadata": {
        "jupyter": {
          "outputs_hidden": false
        },
        "id": "QgP6Hjz8POQa",
        "outputId": "962b2d6d-e680-42a6-9f75-563f2733912e"
      },
      "outputs": [
        {
          "name": "stdout",
          "output_type": "stream",
          "text": [
            "<class 'str'>\n",
            "<class 'str'>\n",
            "<class 'str'>\n"
          ]
        }
      ],
      "source": [
        "for x in ['spam', 'eggs', 'ham']:\n",
        "    print(type(x))"
      ]
    },
    {
      "cell_type": "code",
      "execution_count": null,
      "metadata": {
        "collapsed": true,
        "jupyter": {
          "outputs_hidden": true
        },
        "id": "5nb2XaIwPOQa"
      },
      "outputs": [],
      "source": []
    },
    {
      "cell_type": "markdown",
      "source": [
        "#Практические задачи"
      ],
      "metadata": {
        "id": "i7tH720KSeW1"
      }
    },
    {
      "cell_type": "markdown",
      "source": [
        "Задание 1. По данному целому неотрицательному n вычислите значение n!.\n",
        "N!=1⋅2⋅3⋅⋯⋅N (произведение всех чисел от 1 до N),"
      ],
      "metadata": {
        "id": "sR4Ul2lAShZ8"
      }
    },
    {
      "cell_type": "code",
      "source": [],
      "metadata": {
        "id": "PSnvlwGnSktO"
      },
      "execution_count": null,
      "outputs": []
    },
    {
      "cell_type": "markdown",
      "source": [
        "Задание 2. По данному натуральному n≥2 вычислите сумму 1×2+2×3+⋯+(n−1)×n. Ответ выведите в виде вычисленного выражение и его значения в точности, как показано в примере."
      ],
      "metadata": {
        "id": "n70hxAhsSk8V"
      }
    },
    {
      "cell_type": "code",
      "source": [],
      "metadata": {
        "id": "p8IKwSQ2S5al"
      },
      "execution_count": null,
      "outputs": []
    },
    {
      "cell_type": "markdown",
      "source": [
        "Задание 3. Дано 10 целых чисел. Вычислите их сумму. Напишите программу, использующую наименьшее число переменных."
      ],
      "metadata": {
        "id": "T4kb_JElS5jd"
      }
    },
    {
      "cell_type": "code",
      "source": [],
      "metadata": {
        "id": "DIYjuu2ITJol"
      },
      "execution_count": null,
      "outputs": []
    },
    {
      "cell_type": "markdown",
      "source": [
        "Задание 4. Определите сумму всех элементов последовательности, завершающейся числом 0. Числа, следующие за нулем, считывать не нужно."
      ],
      "metadata": {
        "id": "wWnLZpSWTJz1"
      }
    },
    {
      "cell_type": "code",
      "source": [],
      "metadata": {
        "id": "9HjrXehlTMcc"
      },
      "execution_count": null,
      "outputs": []
    },
    {
      "cell_type": "markdown",
      "source": [
        "Задание 5. По данному натуральному числу N найдите наибольшую целую степень двойки, не превосходящую N. Выведите показатель степени и саму степень."
      ],
      "metadata": {
        "id": "IAZWqbCKTMjf"
      }
    },
    {
      "cell_type": "code",
      "source": [],
      "metadata": {
        "id": "ZrVer6I7TYXF"
      },
      "execution_count": null,
      "outputs": []
    }
  ],
  "metadata": {
    "kernelspec": {
      "display_name": "Python 3 (ipykernel)",
      "language": "python",
      "name": "python3"
    },
    "language_info": {
      "codemirror_mode": {
        "name": "ipython",
        "version": 3
      },
      "file_extension": ".py",
      "mimetype": "text/x-python",
      "name": "python",
      "nbconvert_exporter": "python",
      "pygments_lexer": "ipython3",
      "version": "3.10.8"
    },
    "colab": {
      "provenance": [],
      "include_colab_link": true
    }
  },
  "nbformat": 4,
  "nbformat_minor": 0
}