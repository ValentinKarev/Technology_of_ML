{
  "cells": [
    {
      "cell_type": "markdown",
      "metadata": {
        "id": "view-in-github",
        "colab_type": "text"
      },
      "source": [
        "<a href=\"https://colab.research.google.com/github/ValentinKarev/Technology_of_ML/blob/main/01/lesson1_part2_conditions.ipynb\" target=\"_parent\"><img src=\"https://colab.research.google.com/assets/colab-badge.svg\" alt=\"Open In Colab\"/></a>"
      ]
    },
    {
      "cell_type": "markdown",
      "metadata": {
        "id": "LQeNFl5QRTqC"
      },
      "source": [
        "# Урок 1. Основы языка Python"
      ]
    },
    {
      "cell_type": "markdown",
      "metadata": {
        "id": "J7AAgKxRRTqF"
      },
      "source": [
        "## Часть 2. Переменные типа Bool. Условный оператор"
      ]
    },
    {
      "cell_type": "code",
      "execution_count": null,
      "metadata": {
        "collapsed": true,
        "jupyter": {
          "outputs_hidden": true
        },
        "id": "gRaezc0FRTqF"
      },
      "outputs": [],
      "source": [
        "# Python 2 and 3 compatibility\n",
        "# pip install future\n",
        "from __future__ import (absolute_import, division,\n",
        "                        print_function, unicode_literals)\n",
        "from builtins import *"
      ]
    },
    {
      "cell_type": "markdown",
      "metadata": {
        "id": "43TpVgT3RTqG"
      },
      "source": [
        "#### Для управления логикой программы нужен еще один тип переменной - bool. Переменная типа bool имеет всего два значения - True и False."
      ]
    },
    {
      "cell_type": "code",
      "execution_count": null,
      "metadata": {
        "jupyter": {
          "outputs_hidden": false
        },
        "id": "S--mOx1rRTqG",
        "outputId": "073774fb-e791-4031-a965-96bb52bcb88b"
      },
      "outputs": [
        {
          "name": "stdout",
          "output_type": "stream",
          "text": [
            "<class 'bool'>\n",
            "False\n",
            "<class 'bool'>\n",
            "True\n",
            "<class 'bool'>\n"
          ]
        }
      ],
      "source": [
        "is_connected = True\n",
        "print(type(is_connected))\n",
        "\n",
        "a, b = 5, 6\n",
        "a_greater_b = a > b\n",
        "print(a_greater_b)\n",
        "print(type(a_greater_b))\n",
        "\n",
        "c = bool(1)\n",
        "print(c)\n",
        "print(type(c))"
      ]
    },
    {
      "cell_type": "markdown",
      "metadata": {
        "id": "8pgXov0BRTqH"
      },
      "source": [
        "#### В простейшем виде условная инструкция в Питоне имеет следующий синтаксис:\n",
        "\n",
        "if Условие:\n",
        "   \n",
        "    Блок инструкций 1\n",
        "\n",
        "else:\n",
        "   \n",
        "    Блок инструкций 2"
      ]
    },
    {
      "cell_type": "markdown",
      "metadata": {
        "id": "myOsd7_NRTqH"
      },
      "source": [
        "#### Пример\n",
        "Если число делится на 7, напечатать это число и строку \"YES\", в противном случае - \"NO\""
      ]
    },
    {
      "cell_type": "code",
      "execution_count": null,
      "metadata": {
        "jupyter": {
          "outputs_hidden": false
        },
        "id": "Kx4jXALTRTqI",
        "outputId": "c8bc55cd-f53b-4a61-ef8e-b1b228766428"
      },
      "outputs": [
        {
          "name": "stdout",
          "output_type": "stream",
          "text": [
            "Insert a number: 45\n",
            "NO\n"
          ]
        }
      ],
      "source": [
        "a = int(input(\"Insert a number: \"))\n",
        "if a % 7 == 0:\n",
        "    print(a)\n",
        "    print(\"YES\")\n",
        "else:\n",
        "    print(\"NO\")"
      ]
    },
    {
      "cell_type": "markdown",
      "metadata": {
        "id": "kfwtHsQ9RTqI"
      },
      "source": [
        "#### Если в каждом блоке всего по одной инструкции, можно использовать сокращенный синтаксис:\n",
        "\n",
        "Инструкция 1 if Условие else Инструкция 2"
      ]
    },
    {
      "cell_type": "code",
      "execution_count": null,
      "metadata": {
        "jupyter": {
          "outputs_hidden": false
        },
        "id": "EDy1uZyiRTqI",
        "outputId": "472e4c4f-c8ea-45f1-e15b-894a1ef6d090"
      },
      "outputs": [
        {
          "name": "stdout",
          "output_type": "stream",
          "text": [
            "0.07\n"
          ]
        }
      ],
      "source": [
        "has_debts = True\n",
        "comission = 0.07 if has_debts else 0.05\n",
        "print(comission)"
      ]
    },
    {
      "cell_type": "markdown",
      "metadata": {
        "id": "-wKi13hpRTqK"
      },
      "source": [
        "#### Пример\n",
        "Написать, что число четное или нечетное"
      ]
    },
    {
      "cell_type": "code",
      "execution_count": null,
      "metadata": {
        "jupyter": {
          "outputs_hidden": false
        },
        "id": "12ppiItHRTqK",
        "outputId": "019e74fc-44eb-4067-f949-54c00c882d87"
      },
      "outputs": [
        {
          "name": "stdout",
          "output_type": "stream",
          "text": [
            "Insert a number: 34\n",
            "34 is even\n"
          ]
        }
      ],
      "source": [
        "a = int(input(\"Insert a number: \"))\n",
        "print(str(a) + \" is \" + (\"even\" if a % 2 == 0 else \"odd\"))"
      ]
    },
    {
      "cell_type": "markdown",
      "metadata": {
        "id": "QtQFwoihRTqK"
      },
      "source": [
        "#### Условные конструкции могут быть вложенными.\n",
        "\n",
        "if Условие1:\n",
        "    \n",
        "    if Условие2:\n",
        "    \n",
        "        Блок инструкций 1\n",
        "        \n",
        "        ...\n",
        "        \n",
        "    else:\n",
        "    \n",
        "        Блок инструкций 2\n",
        "        \n",
        "else:\n",
        "   \n",
        "    Блок инструкций 3"
      ]
    },
    {
      "cell_type": "markdown",
      "metadata": {
        "id": "0HEbEuCsRTqL"
      },
      "source": [
        "#### Пример\n",
        "Определить, в какой четверти находится точка, по ее координатам *(x, y)*"
      ]
    },
    {
      "cell_type": "code",
      "execution_count": null,
      "metadata": {
        "jupyter": {
          "outputs_hidden": false
        },
        "id": "M3V6chhdRTqL",
        "outputId": "82cf872f-73a9-4a33-9ddd-98c0d0cbb692"
      },
      "outputs": [
        {
          "name": "stdout",
          "output_type": "stream",
          "text": [
            "Введите x: 43\n",
            "Введите y: 56\n",
            "Первая четверть\n"
          ]
        }
      ],
      "source": [
        "x = int(input(\"Введите x: \"))\n",
        "y = int(input(\"Введите y: \"))\n",
        "if x > 0:\n",
        "    if y > 0:               # x>0, y>0\n",
        "        print(\"Первая четверть\")\n",
        "    else:                   # x>0, y<0\n",
        "        print(\"Четвертая четверть\")\n",
        "else:\n",
        "    if y > 0:               # x<0, y>0\n",
        "        print(\"Вторая четверть\")\n",
        "    else:                   # x<0, y<0\n",
        "        print(\"Третья четверть\")"
      ]
    },
    {
      "cell_type": "markdown",
      "metadata": {
        "id": "ihuwvKlTRTqL"
      },
      "source": [
        "#### Однако, не стоит злоупотреблять вложением конструкций. Если их слишком много вложенных друг в друга, читаемость кода сильно страдает (\"спагетти-код\") и разобраться в нем сложнее"
      ]
    },
    {
      "cell_type": "markdown",
      "metadata": {
        "id": "ob3VImZERTqL"
      },
      "source": [
        "#### Блок *if-elif-else* (каскадная конструкция)\n",
        "if Условие 1:\n",
        "   \n",
        "    Блок инструкций 1\n",
        "\n",
        "elif Условие 2:\n",
        "\n",
        "    Блок инструкций 2\n",
        "    \n",
        "...\n",
        "\n",
        "elif Условие n:\n",
        "\n",
        "    Блок инструкций n\n",
        "    \n",
        "else:\n",
        "   \n",
        "    Блок инструкций n+1"
      ]
    },
    {
      "cell_type": "code",
      "execution_count": null,
      "metadata": {
        "jupyter": {
          "outputs_hidden": false
        },
        "id": "JnGqR8HFRTqM",
        "outputId": "419c9641-7a77-44d9-a941-e951e2a5e423"
      },
      "outputs": [
        {
          "name": "stdout",
          "output_type": "stream",
          "text": [
            "Введите x: 3\n",
            "Введите y: 4\n",
            "Первая четверть\n"
          ]
        }
      ],
      "source": [
        "x = input(\"Введите x: \")\n",
        "y = input(\"Введите y: \")\n",
        "if x > 0 and y > 0:\n",
        "    print(\"Первая четверть\")\n",
        "elif x > 0 and y < 0:\n",
        "    print(\"Четвертая четверть\")\n",
        "elif y > 0:\n",
        "    print(\"Вторая четверть\")\n",
        "else:\n",
        "    print(\"Третья четверть\")"
      ]
    },
    {
      "cell_type": "markdown",
      "metadata": {
        "id": "g3PqsYy9RTqM"
      },
      "source": [
        "#### Задача [\"Високосный год\"](http://informatics.mccme.ru/mod/statements/view.php?id=8448#1)\n",
        "Требуется определить, является ли данный год високосным. (Напомним, что год является високосным, если его номер кратен 4, но не кратен 100, а также если он кратен 400.)\n",
        "\n",
        "Входные данные:\n",
        "Вводится единственное число - номер года (целое, положительное, не превышает 30000).\n",
        "\n",
        "Выходные данные:\n",
        "Требуется вывести слово YES, если год является високосным и NO - в противном случае.\n",
        "#### Решение\n",
        "Пока не используем функции и обработку исключений"
      ]
    },
    {
      "cell_type": "code",
      "execution_count": null,
      "metadata": {
        "jupyter": {
          "outputs_hidden": false
        },
        "id": "7K-7R5ypRTqM",
        "outputId": "78051eff-ab0e-4e8b-a4ed-e33914a62284"
      },
      "outputs": [
        {
          "name": "stdout",
          "output_type": "stream",
          "text": [
            "Insert year and press Enter:23\n",
            "NO\n"
          ]
        }
      ],
      "source": [
        "year = input(\"Insert year and press Enter:\")\n",
        "\n",
        "if year > 30000:\n",
        "    print \"Year should be <= 30000\"\n",
        "    year = input(\"Insert year and press Enter:\")\n",
        "\n",
        "if (year % 4 == 0 and year % 100 != 0) or (year % 400 == 0):\n",
        "    print(\"YES\")\n",
        "else:\n",
        "    print(\"NO\")"
      ]
    },
    {
      "cell_type": "markdown",
      "source": [
        "###Практическое занятие"
      ],
      "metadata": {
        "id": "u9I78kAYSCg0"
      }
    },
    {
      "cell_type": "markdown",
      "source": [
        "Задание 1. Даны два целых числа. Программа должна вывести число 1, если первое число больше второго, число -1, если второе больше первого или число 0, если они равны"
      ],
      "metadata": {
        "id": "riIkWsJHSW4z"
      }
    },
    {
      "cell_type": "code",
      "source": [],
      "metadata": {
        "id": "VY3QT3YpSAaZ"
      },
      "execution_count": null,
      "outputs": []
    },
    {
      "cell_type": "markdown",
      "source": [
        "Задача 2. Даны три целых числа. Найдите наибольшее из них (программа должна вывести ровно одно целое число).\n",
        "Используйте ровно два оператора сравнения (>, <, >=, <=) для решения этой задачи. Использовать функции max и min нельзя."
      ],
      "metadata": {
        "id": "Sh0gPkh8SaKq"
      }
    },
    {
      "cell_type": "code",
      "source": [],
      "metadata": {
        "id": "79voqCC4S9_G"
      },
      "execution_count": null,
      "outputs": []
    },
    {
      "cell_type": "markdown",
      "source": [
        "Задача 3. Даны три целых числа. Определите, сколько среди них совпадающих. Программа должна вывести одно из чисел: 3 (если все совпадают), 2 (если два совпадает) или 0 (если все числа различны)."
      ],
      "metadata": {
        "id": "E_g9f6KsS-M2"
      }
    },
    {
      "cell_type": "code",
      "source": [],
      "metadata": {
        "id": "SnDuMl9QTEOE"
      },
      "execution_count": null,
      "outputs": []
    },
    {
      "cell_type": "markdown",
      "source": [
        "Задача 4. Шахматная ладья ходит по горизонтали или вертикали. Даны две различные клетки шахматной доски, определите, может ли ладья попасть с первой клетки на вторую одним ходом."
      ],
      "metadata": {
        "id": "hL65ccm8TEc4"
      }
    },
    {
      "cell_type": "code",
      "source": [],
      "metadata": {
        "id": "mg-egaRMTJjc"
      },
      "execution_count": null,
      "outputs": []
    },
    {
      "cell_type": "markdown",
      "source": [
        "Задача 5. На сковородку одновременно можно положить k котлет. Каждую котлету нужно с каждой стороны обжаривать m минут непрерывно. За какое наименьшее время удастся поджарить с обеих сторон n котлет?"
      ],
      "metadata": {
        "id": "0vf9hg5cTJu7"
      }
    },
    {
      "cell_type": "code",
      "source": [],
      "metadata": {
        "id": "bgHkRRVqTbOu"
      },
      "execution_count": null,
      "outputs": []
    },
    {
      "cell_type": "markdown",
      "source": [
        "Задача 6. Дано три числа. Упорядочите их в порядке неубывания. Программа должна считывать три числа a, b, c, затем менять их значения так, чтобы стали выполнены условия 𝑎≤𝑏≤𝑐, затем вывести тройку a, b, c."
      ],
      "metadata": {
        "id": "WcvogWbCTcPC"
      }
    },
    {
      "cell_type": "code",
      "source": [],
      "metadata": {
        "id": "W--mGMGwThRL"
      },
      "execution_count": null,
      "outputs": []
    }
  ],
  "metadata": {
    "kernelspec": {
      "display_name": "Python 3 (ipykernel)",
      "language": "python",
      "name": "python3"
    },
    "language_info": {
      "codemirror_mode": {
        "name": "ipython",
        "version": 3
      },
      "file_extension": ".py",
      "mimetype": "text/x-python",
      "name": "python",
      "nbconvert_exporter": "python",
      "pygments_lexer": "ipython3",
      "version": "3.10.8"
    },
    "name": "seminar2_part1_variables_strings_numbers.ipynb",
    "colab": {
      "provenance": [],
      "include_colab_link": true
    }
  },
  "nbformat": 4,
  "nbformat_minor": 0
}