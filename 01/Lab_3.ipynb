{
  "cells": [
    {
      "cell_type": "markdown",
      "source": [
        "**Ваше имя:**\n",
        "\n",
        "**Группа, подгруппа:** \n",
        "\n",
        "____\n"
      ],
      "metadata": {
        "id": "9PWD2zcm-7Yl"
      }
    },
    {
      "cell_type": "markdown",
      "source": [
        "# Лабораторная работа 3\n",
        "1. Инструкции, циклы.\n",
        "2. Функции.\n",
        "3. Встроенные функции для работы с числами в Python.\n",
        "4. Основные функции и методы для работы с последовательностями\n",
        "5. Методы для работы со списками\n",
        "6. Задания.\n",
        "\n",
        "\n",
        "\n",
        "\n",
        "Изучите предложенные материалы, запустите код, размещенный в ноутбуке. В конце работы предусмотрены два задания. "
      ],
      "metadata": {
        "id": "BsQ4359dkBwz"
      }
    },
    {
      "cell_type": "markdown",
      "metadata": {
        "id": "CAlk-6jF3c7R"
      },
      "source": [
        "### 1. Инструкции\n",
        "**Инструкция** - минимальный самостоятельный элемент языка, определяющий действие, которое требуется выполнить программе, например, \n",
        "\n",
        "b = 459 \n",
        "\n",
        "c = list('459')\n",
        "\n",
        "Иногда инструкции включают основную часть (заголовок) и вложенный блок (тело инструкции), тогда вложенный блок размещают с отступом:"
      ]
    },
    {
      "cell_type": "code",
      "execution_count": null,
      "metadata": {
        "id": "dfalsikR3c7Z"
      },
      "outputs": [],
      "source": [
        "if b < a:        # заголовок\n",
        "    print(b)  # тело\n",
        "    print('это значение меньше') # тело"
      ]
    },
    {
      "cell_type": "markdown",
      "metadata": {
        "id": "9MwK_gtt3c7a"
      },
      "source": [
        "### 1.1. if-elif-else\n",
        "Инструкция if позволяет исполнять инструкции только в том случае, если соблюдаются определенные условия.\n",
        "\n",
        "*if условие_1:* \n",
        "  \n",
        "  инструкция\n",
        "  \n",
        "  инструкция\n",
        "\n",
        "*elif условие_2:*\n",
        "  \n",
        "  инструкция\n",
        "  \n",
        "  инструкция\n",
        "\n",
        "\n",
        "*else:*\n",
        "  \n",
        "  инструкция\n",
        "  \n",
        "  инструкция\n",
        "\n",
        "При выполнении проверяется *условие_1*. Если оно является истинным, то исполняется блок инструкций, который идет сразу после него, остальная часть структуры игнорируется. Однако если *условие_1* является ложным, то программа переходит к следующему выражению *elif* и проверяет *условие_2*. И остальная часть игнорируется. Если *условие_2* тоже ложно, процесс продолжается до тех пор, пока не найдено истинное условие. Если ни одно условие не истинно, то выполняется блок инструкций после выражения *else*."
      ]
    },
    {
      "cell_type": "code",
      "execution_count": null,
      "metadata": {
        "id": "FAXe3LWy3c7a"
      },
      "outputs": [],
      "source": [
        "a = 7\n",
        "b = 19\n",
        "if b != a:      # если b не равно а\n",
        "    print(b + a) # то выводится сумма переменных"
      ]
    },
    {
      "cell_type": "code",
      "execution_count": null,
      "metadata": {
        "id": "jGaDnOl53c7b"
      },
      "outputs": [],
      "source": [
        "a = 7\n",
        "b = 7\n",
        "if b != a:      # если b не равно а \n",
        "    print(b+a) # условие не выполняется, поэтому сумма не выводится, программа перескакивает к следующей невложенной инструкции\n",
        "print(0)       # следующая инструкция"
      ]
    },
    {
      "cell_type": "code",
      "execution_count": null,
      "metadata": {
        "id": "oIx3uD5V3c7c"
      },
      "outputs": [],
      "source": [
        "if b > a:    # если b больше a\n",
        "    print(a) # то выводим а\n",
        "else:        # иначе\n",
        "    print(b) # выводится b"
      ]
    },
    {
      "cell_type": "code",
      "execution_count": null,
      "metadata": {
        "id": "jl25QV5Z3c7e"
      },
      "outputs": [],
      "source": [
        "if b > a:    # если b > a\n",
        "    print(a) # то выводим а\n",
        "elif b < a:  # иначе если b < a\n",
        "    print(b) # то выводим b\n",
        "else:        # иначе\n",
        "    print(0) # выводим 0"
      ]
    },
    {
      "cell_type": "code",
      "execution_count": null,
      "metadata": {
        "id": "yrEKFNnt3c7e"
      },
      "outputs": [],
      "source": [
        "a = 5\n",
        "b = 5\n",
        "\n",
        "if b > a:    # если b > a\n",
        "    print(a) # то выводим а\n",
        "elif b < a:  # иначе если b < a\n",
        "    print(b) # то выводим b\n",
        "elif b == a: # иначе если b равно а\n",
        "    print(1) # то выводим 1\n",
        "else:        # иначе\n",
        "    print(0) # выводим 0"
      ]
    },
    {
      "cell_type": "markdown",
      "source": [
        "В Python существует конструкция, которая по своему действию аналогична конструкции if-else, но при этом является выражением. Она называется тернарный оператор.\n",
        "Тернарный оператор — единственный в своем роде оператор, требующий три операнда\n",
        "\n",
        "condition_if_true **if** condition **else** condition_if_false\n",
        "\n",
        "Например: "
      ],
      "metadata": {
        "id": "zcsY_Ir8b4c3"
      }
    },
    {
      "cell_type": "code",
      "source": [
        "g = 4\n",
        "print(g) if g >= 0 else -g"
      ],
      "metadata": {
        "id": "vTnCzgUpd2Er"
      },
      "execution_count": null,
      "outputs": []
    },
    {
      "cell_type": "code",
      "execution_count": null,
      "metadata": {
        "id": "NEC5952V3c7d"
      },
      "outputs": [],
      "source": [
        "x = 7\n",
        "print('Четное' if x%2 == 0 else 'Нечетное')"
      ]
    },
    {
      "cell_type": "markdown",
      "metadata": {
        "id": "IjHig7qT3c7e"
      },
      "source": [
        "#### 1.2. Выбор с помощью словаря\n",
        "\n",
        "Обратите внимание на функцию input( ), она используется для ввода данных. \n",
        "\n",
        "В выводе данных используется словарь, в котором ключи - названия дней недели, а значения - время. \n",
        "\n",
        "\n"
      ]
    },
    {
      "cell_type": "code",
      "execution_count": null,
      "metadata": {
        "id": "TFJMIaSH3c7f"
      },
      "outputs": [],
      "source": [
        "choice = input('Какой сегодня день недели?')\n",
        "print('Начало занятий по цифровой культуре: ')\n",
        "print({'понедельник': '8:00',\n",
        "     'вторник': '11:20',\n",
        "     'среда': '15:00',\n",
        "     'суббота': 'нет занятий!'}[choice])"
      ]
    },
    {
      "cell_type": "markdown",
      "metadata": {
        "id": "uoy7OEJx3c7f"
      },
      "source": [
        "### 1.3. Цикл while\n",
        "Продолжает выполнять блок инструкций до тех пор, пока условное выражение продолжает возвращать истину"
      ]
    },
    {
      "cell_type": "code",
      "execution_count": null,
      "metadata": {
        "id": "KhWcWHmT3c7g"
      },
      "outputs": [],
      "source": [
        "i = 6\n",
        "while i:     # пока i истинно, т.е. не равно 0\n",
        "    print(i) # выводим i\n",
        "    i -= 1   # отнимаем от i единицу"
      ]
    },
    {
      "cell_type": "code",
      "execution_count": null,
      "metadata": {
        "id": "-CPEMokn3c7g"
      },
      "outputs": [],
      "source": [
        "i = 0\n",
        "while i<7:   # пока i меньше 7\n",
        "    print(i) # выводим i\n",
        "    i += 1   # прибавляем к i единицу"
      ]
    },
    {
      "cell_type": "code",
      "execution_count": null,
      "metadata": {
        "id": "a7GrqJYp3c7h"
      },
      "outputs": [],
      "source": [
        "i = 0\n",
        "while i<8:   # пока i меньше 8\n",
        "    print(i) # выводим i\n",
        "    i += 1   # прибавляем к i единицу\n",
        "else: print('Всё закончилось')"
      ]
    },
    {
      "cell_type": "code",
      "execution_count": null,
      "metadata": {
        "id": "UB94ZgZx3c7h"
      },
      "outputs": [],
      "source": [
        "x = 20\n",
        "while x:       # пока x истинно\n",
        "    x -= 1     # отнимаем 1\n",
        "    print(x)   # выводим x\n",
        "    if x == 15: # если значение x достигло 15\n",
        "        break  # прерываем выполнение цикла"
      ]
    },
    {
      "cell_type": "markdown",
      "metadata": {
        "id": "qnAM3DMw3c7h"
      },
      "source": [
        "### 1.4. Цикл for \n",
        "Применяется для перебора элементов последовательности "
      ]
    },
    {
      "cell_type": "markdown",
      "metadata": {
        "id": "cyENoVmP3c7h"
      },
      "source": [
        "for текущий элемент in Последовательность:\n",
        "    Инструкции внутри цикла\n",
        "else: \n",
        "    Блок, выполняемый, если не использовался оператор break"
      ]
    },
    {
      "cell_type": "markdown",
      "metadata": {
        "id": "6xglnd-N3c7i"
      },
      "source": [
        "•\tпоследовательность – объект, поддерживающий механизм итерации   \n",
        "•\tтекущий элемент – на каждой итерации через этот параметр доступен текущий элемент последовательности\n"
      ]
    },
    {
      "cell_type": "code",
      "execution_count": null,
      "metadata": {
        "id": "mcbMpA493c7i",
        "outputId": "7f07086a-480d-4e0a-9dd8-710be7585ab1"
      },
      "outputs": [
        {
          "name": "stdout",
          "output_type": "stream",
          "text": [
            "1\n",
            "3\n",
            "5\n",
            "7\n",
            "9\n"
          ]
        }
      ],
      "source": [
        "# перебор элементов диапазона\n",
        "for i in range(1,10,2): \n",
        "    print(i)"
      ]
    },
    {
      "cell_type": "code",
      "execution_count": null,
      "metadata": {
        "id": "WzbqREdn3c7i",
        "outputId": "e73d5331-e3b2-4591-b46c-36ef21517794"
      },
      "outputs": [
        {
          "name": "stdout",
          "output_type": "stream",
          "text": [
            "2\n",
            "22\n",
            "bb\n",
            "11.0\n"
          ]
        }
      ],
      "source": [
        "# перебор элементов списка\n",
        "l = [1, '2', 'b', 5.5]\n",
        "for i in l:\n",
        "    print(i*2)"
      ]
    },
    {
      "cell_type": "code",
      "execution_count": null,
      "metadata": {
        "id": "XgAQy6UQ3c7i",
        "outputId": "0ef3cd41-5a4e-4680-a5e2-67ac02db928c"
      },
      "outputs": [
        {
          "name": "stdout",
          "output_type": "stream",
          "text": [
            "s\n",
            "t\n",
            "r\n",
            "i\n",
            "n\n",
            "g\n",
            "Цикл выполнен\n"
          ]
        }
      ],
      "source": [
        "# перебор элементов строки\n",
        "for s in 'string':\n",
        "    print(s)\n",
        "else: print('Цикл выполнен')"
      ]
    },
    {
      "cell_type": "code",
      "execution_count": null,
      "metadata": {
        "id": "Z3j7cN-C3c7j",
        "outputId": "2e9934a3-e370-488f-e7cf-dbcba719ffbc"
      },
      "outputs": [
        {
          "name": "stdout",
          "output_type": "stream",
          "text": [
            "1 2\n",
            "3 4\n",
            "5 6\n"
          ]
        }
      ],
      "source": [
        "# с помощью for можно перебирать сложные структуры данных\n",
        "arr = [(1,2), (3, 4), (5, 6)]\n",
        "for a, b in arr:\n",
        "    print(a, b)"
      ]
    },
    {
      "cell_type": "code",
      "execution_count": null,
      "metadata": {
        "id": "NN1k6FPx3c7j",
        "outputId": "442d6e46-3667-435f-e13d-5c260b29156e"
      },
      "outputs": [
        {
          "name": "stdout",
          "output_type": "stream",
          "text": [
            "x 1\n",
            "y 2\n",
            "z 3\n"
          ]
        }
      ],
      "source": [
        "# перебор словаря\n",
        "d = {'x': 1, 'y': 2, 'z': 3}\n",
        "for k in d.keys():\n",
        "    print(k, d[k])"
      ]
    },
    {
      "cell_type": "markdown",
      "metadata": {
        "id": "pi3zMfTj3c7j"
      },
      "source": [
        "#### Генератор списков"
      ]
    },
    {
      "cell_type": "code",
      "execution_count": null,
      "metadata": {
        "id": "gnFhnfOe3c7k",
        "outputId": "a281e37b-facb-4dbf-df26-1b88ec26b56c"
      },
      "outputs": [
        {
          "data": {
            "text/plain": [
              "[0, 1, 2, 3, 4, 5, 6, 7, 8, 9]"
            ]
          },
          "execution_count": 21,
          "metadata": {},
          "output_type": "execute_result"
        }
      ],
      "source": [
        "l = []\n",
        "for i in range(10):\n",
        "    l.append(i)\n",
        "l"
      ]
    },
    {
      "cell_type": "code",
      "execution_count": null,
      "metadata": {
        "id": "If1znfdT3c7k",
        "outputId": "277c1916-1313-4034-f81a-d06347efbe56"
      },
      "outputs": [
        {
          "data": {
            "text/plain": [
              "[0, 1, 2, 3, 4, 5, 6, 7, 8, 9]"
            ]
          },
          "execution_count": 22,
          "metadata": {},
          "output_type": "execute_result"
        }
      ],
      "source": [
        "l1 = [i for i in range(10)]\n",
        "l1"
      ]
    },
    {
      "cell_type": "code",
      "execution_count": null,
      "metadata": {
        "id": "jnQbiEu73c7l",
        "outputId": "a29f845b-2c59-40ee-b59d-e5eb4c00eb1d"
      },
      "outputs": [
        {
          "data": {
            "text/plain": [
              "['ss', 'tt', 'rr']"
            ]
          },
          "execution_count": 23,
          "metadata": {},
          "output_type": "execute_result"
        }
      ],
      "source": [
        "l2 = [i*2 for i in 'str']\n",
        "l2"
      ]
    },
    {
      "cell_type": "code",
      "execution_count": null,
      "metadata": {
        "id": "WGDpAvz43c7l",
        "outputId": "8c331ea0-32b7-4b6b-b86a-b493053a01ba"
      },
      "outputs": [
        {
          "data": {
            "text/plain": [
              "[9, 4, 2, 3, 1, 9]"
            ]
          },
          "execution_count": 24,
          "metadata": {},
          "output_type": "execute_result"
        }
      ],
      "source": [
        "a = \"lsj94ksd2319\"\n",
        "b = [int(i) for i in a if '0'<=i<='9']\n",
        "b"
      ]
    },
    {
      "cell_type": "markdown",
      "metadata": {
        "id": "kZ4oufJS3c7m"
      },
      "source": [
        "### 1.5. Continue\n",
        "Позволяет перейти к следующей итерации цикла до завершения выполнения всех инструкций внутри цикла"
      ]
    },
    {
      "cell_type": "code",
      "execution_count": null,
      "metadata": {
        "id": "UZDUydWM3c7n",
        "outputId": "e43e7220-5bfb-46ff-b662-4460a1dfe522"
      },
      "outputs": [
        {
          "name": "stdout",
          "output_type": "stream",
          "text": [
            "1\n",
            "3\n",
            "5\n",
            "7\n",
            "9\n"
          ]
        }
      ],
      "source": [
        "for num in range(11):\n",
        "    if num%2 == 0: continue # если num - четное число, то переходим к следующей итерации цикла\n",
        "    print(num)"
      ]
    },
    {
      "cell_type": "code",
      "execution_count": null,
      "metadata": {
        "id": "3eurhnTK3c7n",
        "outputId": "f4e74e74-4b3d-4279-c084-09283aa99f3c"
      },
      "outputs": [
        {
          "name": "stdout",
          "output_type": "stream",
          "text": [
            "0\n",
            "1\n",
            "2\n",
            "3\n",
            "4\n",
            "5\n",
            "6\n",
            "7\n",
            "8\n",
            "9\n",
            "10\n"
          ]
        }
      ],
      "source": [
        "for num in range(11):\n",
        "    print(num)"
      ]
    },
    {
      "cell_type": "markdown",
      "metadata": {
        "id": "ECzvqrFV3c7n"
      },
      "source": [
        "### 1.6. Break\n",
        "Прерывает текущий цикл и продолжает выполнение следующих инструкций"
      ]
    },
    {
      "cell_type": "code",
      "execution_count": null,
      "metadata": {
        "id": "oV-7Bgb83c7n",
        "outputId": "f33f66f0-0772-421d-e178-ce874f0ba971"
      },
      "outputs": [
        {
          "name": "stdout",
          "output_type": "stream",
          "text": [
            "0\n",
            "1\n",
            "2\n",
            "3\n",
            "4\n"
          ]
        }
      ],
      "source": [
        "for num in range(10):\n",
        "    if num == 5: break\n",
        "    print(num)"
      ]
    },
    {
      "cell_type": "markdown",
      "metadata": {
        "id": "lnrmew7Y3c7o"
      },
      "source": [
        "### 1.7. Pass"
      ]
    },
    {
      "cell_type": "markdown",
      "metadata": {
        "id": "VUekQ_zz3c7o"
      },
      "source": [
        "Инструкция pass абсолютно ничего не делает"
      ]
    },
    {
      "cell_type": "code",
      "execution_count": null,
      "metadata": {
        "id": "0Mo5U6Uz3c7o",
        "outputId": "2eec3a6b-60db-41c6-bbe9-d833462de367"
      },
      "outputs": [
        {
          "name": "stdout",
          "output_type": "stream",
          "text": [
            "0\n",
            "1\n",
            "2\n",
            "3\n",
            "4\n"
          ]
        }
      ],
      "source": [
        "for num in range(5):\n",
        "    if num < 3: pass\n",
        "    print(num)"
      ]
    },
    {
      "cell_type": "markdown",
      "source": [
        "## 2. Функции\n",
        "\n",
        "Функции – это многократно используемые фрагменты кода, которые можно вызвать из любого места программы.\n",
        "\n",
        "При помощи функции можно объединить несколько инструкций в один блок, присвоить этому блоку имя и затем, обращаясь по имени этого блока, вызывать инструкции внутри него в любом месте программы. \n",
        "\n",
        "\n",
        "Таким образом, функции - способ структуризации программ, они позволяют разбивать сложную систему на отдельные, достаточно простые и легко управляемые части."
      ],
      "metadata": {
        "id": "NbYMlQIeNQn2"
      }
    },
    {
      "cell_type": "markdown",
      "source": [
        ""
      ],
      "metadata": {
        "id": "OeUpXgl6KCyP"
      }
    },
    {
      "cell_type": "code",
      "source": [
        "# Определение функции, которая печатает число 7\n",
        "# слово def - сокращение от definition (определение)\n",
        "# после имени функции в определении всегда должна быть пара скобок и двоеточие, после этого с отступом указана инструкция:\n",
        "\n",
        "def do_something(): \n",
        "    print(7)"
      ],
      "metadata": {
        "id": "7t7fuIyRNRan"
      },
      "execution_count": null,
      "outputs": []
    },
    {
      "cell_type": "code",
      "source": [
        "# Вызов этой функции (имя с круглыми скобками)\n",
        "do_something()"
      ],
      "metadata": {
        "id": "238IZH_7Niqx"
      },
      "execution_count": null,
      "outputs": []
    },
    {
      "cell_type": "code",
      "source": [
        "# Определение функции с аргументами в круглых скобках\n",
        "def func(a, b):\n",
        "    print(a+b)"
      ],
      "metadata": {
        "id": "jVDNH3rBNjju"
      },
      "execution_count": null,
      "outputs": []
    },
    {
      "cell_type": "code",
      "source": [
        "func(2,3) # Вызов суммирующей функции, передаем как значение аргументов числа 2 и 3"
      ],
      "metadata": {
        "colab": {
          "base_uri": "https://localhost:8080/"
        },
        "id": "yEUBh_XsNmW1",
        "outputId": "a541fcb7-e86c-41f1-d3b9-748b071ab4f6"
      },
      "execution_count": null,
      "outputs": [
        {
          "output_type": "stream",
          "name": "stdout",
          "text": [
            "5\n"
          ]
        }
      ]
    },
    {
      "cell_type": "code",
      "source": [
        "def square(x):\n",
        "  print('Квадрат числа ', x, ' равен ', x**2)"
      ],
      "metadata": {
        "id": "L_F-nRjzKx2t"
      },
      "execution_count": null,
      "outputs": []
    },
    {
      "cell_type": "code",
      "source": [
        "square(4)"
      ],
      "metadata": {
        "id": "oJJUxUIgK6cl"
      },
      "execution_count": null,
      "outputs": []
    },
    {
      "cell_type": "code",
      "source": [
        "def f(x,y):\n",
        "    if x > y: print(x)\n",
        "    else: print(y)"
      ],
      "metadata": {
        "id": "-WpFsVOVNpsG"
      },
      "execution_count": null,
      "outputs": []
    },
    {
      "cell_type": "code",
      "source": [
        "f(3,4)"
      ],
      "metadata": {
        "id": "B3X6EuSfNwEW"
      },
      "execution_count": null,
      "outputs": []
    },
    {
      "cell_type": "markdown",
      "source": [
        "Выход из функции и передача данных в то место, откуда она была вызвана, выполняется оператором return."
      ],
      "metadata": {
        "id": "N1EAx4rlOGxc"
      }
    },
    {
      "cell_type": "code",
      "source": [
        "def f(x,y):\n",
        "    if x > y: return x\n",
        "    else: return y"
      ],
      "metadata": {
        "id": "Wv1N6O4XOHkY"
      },
      "execution_count": null,
      "outputs": []
    },
    {
      "cell_type": "code",
      "source": [
        "a = f(7,8)\n",
        "print(a)"
      ],
      "metadata": {
        "id": "KHMBSb4HOKq7"
      },
      "execution_count": null,
      "outputs": []
    },
    {
      "cell_type": "code",
      "source": [
        "def func(a,b):\n",
        "    return a**b"
      ],
      "metadata": {
        "id": "qEDguKUZONLp"
      },
      "execution_count": null,
      "outputs": []
    },
    {
      "cell_type": "code",
      "source": [
        "func(6,7)"
      ],
      "metadata": {
        "colab": {
          "base_uri": "https://localhost:8080/"
        },
        "id": "RMfkLxLhOQYB",
        "outputId": "6b4c66be-895a-4612-ccfe-9b7832343821"
      },
      "execution_count": null,
      "outputs": [
        {
          "output_type": "execute_result",
          "data": {
            "text/plain": [
              "279936"
            ]
          },
          "metadata": {},
          "execution_count": 46
        }
      ]
    },
    {
      "cell_type": "code",
      "source": [
        "# Если значения параметров, которые планируется передать в функцию содержатся в списке или кортеже, \n",
        "# то при вызове функции необходимо указать * перед именем передаваемого объекта\n",
        "t = (9, 5)\n",
        "func(*t)"
      ],
      "metadata": {
        "colab": {
          "base_uri": "https://localhost:8080/"
        },
        "id": "E5k6rdhuOULt",
        "outputId": "5ee7ca4c-b73e-4bd3-ef92-9430158e4c5a"
      },
      "execution_count": null,
      "outputs": [
        {
          "output_type": "execute_result",
          "data": {
            "text/plain": [
              "59049"
            ]
          },
          "metadata": {},
          "execution_count": 49
        }
      ]
    },
    {
      "cell_type": "code",
      "source": [
        "# Если значения параметров хранятся в словаре, то нужно использовать **\n",
        "d = {'a': 9, 'b': 5}\n",
        "func(**d)"
      ],
      "metadata": {
        "colab": {
          "base_uri": "https://localhost:8080/"
        },
        "id": "XsP3kjCxOYkg",
        "outputId": "25e1899e-9e17-43bd-8cc6-61142ce057a4"
      },
      "execution_count": null,
      "outputs": [
        {
          "output_type": "execute_result",
          "data": {
            "text/plain": [
              "59049"
            ]
          },
          "metadata": {},
          "execution_count": 52
        }
      ]
    },
    {
      "cell_type": "code",
      "source": [
        "# Python позволяет также передать значения в функцию, используя сопоставление по ключам\n",
        "func(b=5, a=9)"
      ],
      "metadata": {
        "colab": {
          "base_uri": "https://localhost:8080/"
        },
        "id": "2yQNN5gWOcIF",
        "outputId": "bec9e652-ba45-4b6f-ae98-7a93ef82b5cc"
      },
      "execution_count": null,
      "outputs": [
        {
          "output_type": "execute_result",
          "data": {
            "text/plain": [
              "59049"
            ]
          },
          "metadata": {},
          "execution_count": 54
        }
      ]
    },
    {
      "cell_type": "code",
      "source": [
        "# Значения параметров можно указывать при определении функции\n",
        "def func(a, b=5):\n",
        "    return a**b"
      ],
      "metadata": {
        "id": "S26QHjkFOgP4"
      },
      "execution_count": null,
      "outputs": []
    },
    {
      "cell_type": "code",
      "source": [
        "func(9)"
      ],
      "metadata": {
        "colab": {
          "base_uri": "https://localhost:8080/"
        },
        "id": "HNICkqZGOkLp",
        "outputId": "e70d49a5-1496-49dc-bf98-0e738a79a3fe"
      },
      "execution_count": null,
      "outputs": [
        {
          "output_type": "execute_result",
          "data": {
            "text/plain": [
              "59049"
            ]
          },
          "metadata": {},
          "execution_count": 58
        }
      ]
    },
    {
      "cell_type": "code",
      "source": [
        "func(9, 5)"
      ],
      "metadata": {
        "colab": {
          "base_uri": "https://localhost:8080/"
        },
        "id": "393hfjRnOnQV",
        "outputId": "e20e1be1-3026-4396-b4c0-be1244a5a901"
      },
      "execution_count": null,
      "outputs": [
        {
          "output_type": "execute_result",
          "data": {
            "text/plain": [
              "59049"
            ]
          },
          "metadata": {},
          "execution_count": 59
        }
      ]
    },
    {
      "cell_type": "code",
      "source": [
        "# Функция принимает переменное число аргументов\n",
        "def summ(*args):\n",
        "    res = 0\n",
        "    for i in args:\n",
        "        res += i\n",
        "    return res"
      ],
      "metadata": {
        "id": "h417wIFoOsMO"
      },
      "execution_count": null,
      "outputs": []
    },
    {
      "cell_type": "code",
      "source": [
        "summ(2,2,3)"
      ],
      "metadata": {
        "id": "XZk4wnSOOvBR"
      },
      "execution_count": null,
      "outputs": []
    },
    {
      "cell_type": "code",
      "source": [
        "summ(3, 4, 3, 2, 2)"
      ],
      "metadata": {
        "id": "awOFl7k-Oxxz"
      },
      "execution_count": null,
      "outputs": []
    },
    {
      "cell_type": "code",
      "source": [
        "# Если перед параметром в определении функции указать две звездочки **, то все именованные параметры будут сохранены в словаре\n",
        "def func(**d):\n",
        "    for i in d:\n",
        "        print(i, d[i])\n",
        "\n",
        "func(a = 11, b = 14, c = 31)"
      ],
      "metadata": {
        "colab": {
          "base_uri": "https://localhost:8080/"
        },
        "id": "kAz4rrurO1PY",
        "outputId": "2b1074e3-c741-4cfa-8c31-71f2a1fed7ed"
      },
      "execution_count": null,
      "outputs": [
        {
          "output_type": "stream",
          "name": "stdout",
          "text": [
            "a 11\n",
            "b 14\n",
            "c 31\n"
          ]
        }
      ]
    },
    {
      "cell_type": "code",
      "source": [
        "# Комбинирование параметров\n",
        "def func(*t, a, b=10, **d):\n",
        "    print(t,a,b,d)"
      ],
      "metadata": {
        "id": "pcJ5Bt8mO88R"
      },
      "execution_count": null,
      "outputs": []
    },
    {
      "cell_type": "code",
      "source": [
        "func(7,16,21, a=7, c=3, d=7, e=3)"
      ],
      "metadata": {
        "colab": {
          "base_uri": "https://localhost:8080/"
        },
        "id": "B0AOm7PnO9uj",
        "outputId": "3605dfac-2778-4039-d0a8-bb94e7119dfe"
      },
      "execution_count": null,
      "outputs": [
        {
          "output_type": "stream",
          "name": "stdout",
          "text": [
            "(7, 16, 21) 7 10 {'c': 3, 'd': 7, 'e': 3}\n"
          ]
        }
      ]
    },
    {
      "cell_type": "markdown",
      "source": [
        "### Область видимости\n",
        "\n",
        "Глобальные переменные – переменные, объявленные в программе вне функции. В Python глобальные переменные видны в любой части модуля, включая функции.\n",
        "Локальные переменные – переменные, объявляемые внутри функции и доступные только внутри нее."
      ],
      "metadata": {
        "id": "8U6Wj7btPCYQ"
      }
    },
    {
      "cell_type": "code",
      "source": [
        "a = 4 # Глобальная переменная\n",
        "\n",
        "def func(b):\n",
        "    return a*b"
      ],
      "metadata": {
        "id": "uE2fdsR6PK9A"
      },
      "execution_count": null,
      "outputs": []
    },
    {
      "cell_type": "code",
      "source": [
        "func(3)"
      ],
      "metadata": {
        "colab": {
          "base_uri": "https://localhost:8080/"
        },
        "id": "ncukMGcQPMB5",
        "outputId": "4f86d1cd-0f20-4683-b8e3-195e56d1c9b4"
      },
      "execution_count": null,
      "outputs": [
        {
          "output_type": "execute_result",
          "data": {
            "text/plain": [
              "12"
            ]
          },
          "metadata": {},
          "execution_count": 75
        }
      ]
    },
    {
      "cell_type": "code",
      "source": [
        "def func(b):\n",
        "    c = 7 # Локальная переменная\n",
        "    return c*b"
      ],
      "metadata": {
        "id": "0tPfSynaPOee"
      },
      "execution_count": null,
      "outputs": []
    },
    {
      "cell_type": "code",
      "source": [
        "func(2)"
      ],
      "metadata": {
        "id": "azlU6hq-PQx9"
      },
      "execution_count": null,
      "outputs": []
    },
    {
      "cell_type": "code",
      "source": [
        "c"
      ],
      "metadata": {
        "id": "8iSMV5N4PUEx"
      },
      "execution_count": null,
      "outputs": []
    },
    {
      "cell_type": "code",
      "source": [
        "# Если имя локальной переменной совпадает с именем глобальной переменной, все операции внутри функции выполняются с локальной переменной\n",
        "\n",
        "d = 5\n",
        "\n",
        "def func(e):\n",
        "    d = 3\n",
        "    return d*e"
      ],
      "metadata": {
        "id": "afRENVkoPbx2"
      },
      "execution_count": null,
      "outputs": []
    },
    {
      "cell_type": "code",
      "source": [
        "\n",
        "func(2)"
      ],
      "metadata": {
        "id": "4L2rIXpUPcmb"
      },
      "execution_count": null,
      "outputs": []
    },
    {
      "cell_type": "markdown",
      "source": [
        "## 3. Встроенные функции для работы с числами в Python\n",
        "\n",
        "abs() – абсолютная величина\n",
        "\n",
        "divmod() – частное и остаток от деления\n",
        "\n",
        "pow() – возведение в степень\n",
        "\n",
        "round() – округление десятичного числа\n",
        "\n",
        "sum() – сумма членов изменяемой последовательности"
      ],
      "metadata": {
        "id": "r9MEuaFSQdIO"
      }
    },
    {
      "cell_type": "code",
      "source": [
        "a = -77\n",
        "b = 4.89"
      ],
      "metadata": {
        "id": "NYD8uZHIQn-Z"
      },
      "execution_count": null,
      "outputs": []
    },
    {
      "cell_type": "code",
      "source": [
        "abs(a)"
      ],
      "metadata": {
        "id": "NOa7BfBtQonn"
      },
      "execution_count": null,
      "outputs": []
    },
    {
      "cell_type": "code",
      "source": [
        "divmod(11, 4)"
      ],
      "metadata": {
        "id": "QQiwRu0aQs7e"
      },
      "execution_count": null,
      "outputs": []
    },
    {
      "cell_type": "code",
      "source": [
        "divmod(11,4)[0]"
      ],
      "metadata": {
        "id": "TDSdXSMQQ3tb"
      },
      "execution_count": null,
      "outputs": []
    },
    {
      "cell_type": "code",
      "source": [
        "pow(2,2)"
      ],
      "metadata": {
        "id": "y_4k37xsQ61f"
      },
      "execution_count": null,
      "outputs": []
    },
    {
      "cell_type": "code",
      "source": [
        "int(pow(9, 0.5))"
      ],
      "metadata": {
        "id": "rbczPcoXQ-sw"
      },
      "execution_count": null,
      "outputs": []
    },
    {
      "cell_type": "code",
      "source": [
        "a = 8.50987\n",
        "round(a,2)"
      ],
      "metadata": {
        "id": "jZnaxa4GRG28"
      },
      "execution_count": null,
      "outputs": []
    },
    {
      "cell_type": "code",
      "source": [
        "a = 4\n",
        "b = 3\n",
        "sum((a,b))"
      ],
      "metadata": {
        "id": "fRnVUiqBRJJv"
      },
      "execution_count": null,
      "outputs": []
    },
    {
      "cell_type": "code",
      "source": [
        "sum([1,7,19,51]) "
      ],
      "metadata": {
        "id": "AtKat9wRRMzX"
      },
      "execution_count": null,
      "outputs": []
    },
    {
      "cell_type": "markdown",
      "source": [
        "## 4. Основные функции и методы для работы с последовательностями\n",
        "\n",
        "\n",
        "\n",
        "\n",
        "len(последовательность) - возвращает количество символов в последовательности\n",
        "\n",
        "max(последовательность) - возвращает максимальное значение в последовательности\n",
        "\n",
        "min(последовательность) - возвращает минимальное значение в последовательности\n",
        "\n",
        "последовательность.index(элемент) - возвращает индекс элемента, имеющего указанное значение\n",
        "\n",
        "последовательность.count(элемент) - возвращает число вхождений элемента в последовательность"
      ],
      "metadata": {
        "id": "qynUXQna29NV"
      }
    },
    {
      "cell_type": "code",
      "source": [
        "s = \"Don't look up!\"\n",
        "len(s) # кол-во элементов в строке s"
      ],
      "metadata": {
        "id": "Z6HXjkbL35Hh"
      },
      "execution_count": null,
      "outputs": []
    },
    {
      "cell_type": "code",
      "source": [
        "l = [11, 367, 54, 12, 21, 22, 17, 11, 24]\n",
        "max(l) # максимальный элемент списка чисел"
      ],
      "metadata": {
        "id": "YuVk9Cro4GCN"
      },
      "execution_count": null,
      "outputs": []
    },
    {
      "cell_type": "code",
      "source": [
        "min(l) # минимальный элемент числового списка"
      ],
      "metadata": {
        "id": "xlf9gfOH4RPz"
      },
      "execution_count": null,
      "outputs": []
    },
    {
      "cell_type": "code",
      "source": [
        "a = 'аллегория'\n",
        "a.index('р') # Индекс символа р в строке а"
      ],
      "metadata": {
        "id": "erJzYoDJ4m_Z"
      },
      "execution_count": null,
      "outputs": []
    },
    {
      "cell_type": "code",
      "source": [
        "l.count(11) # количество элементов, равных 11, в числовом списке l"
      ],
      "metadata": {
        "id": "nG2ytdom43sK"
      },
      "execution_count": null,
      "outputs": []
    },
    {
      "cell_type": "markdown",
      "source": [
        "## 5. Методы для работы со списками\n",
        "\n",
        "список.append(элемент) - добавляет элемент в конец списка\n",
        "\n",
        "список.extend(последовательность) - добавляет элементы последовательности в конец списка\n",
        "\n",
        "список.insert(индекс, элемент) - добавляет один элемент в указанную позицию\n",
        "\n",
        "список.pop(индекс) - удаляет элемент, расположенный по указанному индексу \n",
        "\n",
        "список.remove(элемент) - удаляет первый элемент списка, содержащий указанное значение \n",
        "\n",
        "список.reverse() - изменяет порядок следования элементов списка на противоположный\n",
        "\n",
        "список.sort() - сортирует список\n",
        "\n",
        "список.copy() - копирует список"
      ],
      "metadata": {
        "id": "wgGRxRs-3QYj"
      }
    },
    {
      "cell_type": "code",
      "source": [
        "l.append('digital') # добавляем элемент b в конец списка l\n",
        "l"
      ],
      "metadata": {
        "id": "H1a5-Heb6QxD"
      },
      "execution_count": null,
      "outputs": []
    },
    {
      "cell_type": "code",
      "source": [
        "l.insert(4, 'word') # добавляем word в позицию 4\n",
        "l"
      ],
      "metadata": {
        "id": "JznEC8RB6q1Q"
      },
      "execution_count": null,
      "outputs": []
    },
    {
      "cell_type": "code",
      "source": [
        "l.reverse() # переворачивает список\n",
        "l"
      ],
      "metadata": {
        "id": "faCZODWD68Ly"
      },
      "execution_count": null,
      "outputs": []
    },
    {
      "cell_type": "code",
      "source": [
        "d = [87, 50, 35, 56, 86]\n",
        "d.sort()\n",
        "d"
      ],
      "metadata": {
        "id": "tqDLTnzk7MuY"
      },
      "execution_count": null,
      "outputs": []
    },
    {
      "cell_type": "markdown",
      "source": [
        "## 6. Задания"
      ],
      "metadata": {
        "id": "sAxM2e8zobql"
      }
    },
    {
      "cell_type": "markdown",
      "source": [
        "Задание 1. Напишите функцию, принимающую какое-либо слово и выясняющую, не является ли оно палиндромом. \n",
        "\n",
        "Палиндром — число, буквосочетание, слово или текст, одинаково читающееся в обоих направлениях (например, «топот»)."
      ],
      "metadata": {
        "id": "IGpkiHXGQPbr"
      }
    },
    {
      "cell_type": "code",
      "source": [
        ""
      ],
      "metadata": {
        "id": "JSxsMGXDiNGa"
      },
      "execution_count": null,
      "outputs": []
    },
    {
      "cell_type": "markdown",
      "source": [
        "Задание 2. Учебный год в вузе можно представить приблизительно так:\n",
        "\n",
        "- январь, февраль, март, апрель, май — учеба,\n",
        "- июнь и декабрь — сессия,\n",
        "- июль и август — каникулы.\n",
        "\n",
        "Напишите функцию year, принимающую один аргумент — номер месяца (от 1 до 12) и возвращающую информацию, чем вы будете в этот месяц заниматься.\n",
        "\n",
        "Подсказка: используйте if-elif-else. Для ввода значения используйте input, не забудьте преобразовать это строковое значение в число."
      ],
      "metadata": {
        "id": "g6UeVE3rMQmd"
      }
    },
    {
      "cell_type": "code",
      "source": [
        ""
      ],
      "metadata": {
        "id": "NPbtoDwOiNwf"
      },
      "execution_count": null,
      "outputs": []
    }
  ],
  "metadata": {
    "kernelspec": {
      "display_name": "Python 3",
      "language": "python",
      "name": "python3"
    },
    "language_info": {
      "codemirror_mode": {
        "name": "ipython",
        "version": 3
      },
      "file_extension": ".py",
      "mimetype": "text/x-python",
      "name": "python",
      "nbconvert_exporter": "python",
      "pygments_lexer": "ipython3",
      "version": "3.7.6"
    },
    "colab": {
      "name": "Лабораторная работа 3.ipynb\"",
      "provenance": [],
      "collapsed_sections": [
        "uoy7OEJx3c7f",
        "qnAM3DMw3c7h",
        "pi3zMfTj3c7j",
        "kZ4oufJS3c7m",
        "ECzvqrFV3c7n",
        "lnrmew7Y3c7o",
        "r9MEuaFSQdIO",
        "qynUXQna29NV"
      ]
    }
  },
  "nbformat": 4,
  "nbformat_minor": 0
}
